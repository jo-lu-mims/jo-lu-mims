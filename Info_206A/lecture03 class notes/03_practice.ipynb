{
 "cells": [
  {
   "cell_type": "code",
   "execution_count": null,
   "id": "883b1eac",
   "metadata": {},
   "outputs": [],
   "source": [
    "# PRACTICE PROBLEM 1\n",
    "\n",
    "# Write a function howLong that takes as input a string and \n",
    "# prints the string \"very short\" if the length of the input is 1, \n",
    "# prints \"short\" if the length of the string is greater than 1 and less than or equal to 5, \n",
    "# prints \"long\" if the length of the string is greater than 5 and less than or equal to 10, and \n",
    "# prints \"very long\" otherwise. \n",
    "\n",
    "# Your solution cannot use the logical operators \"and\", \"or\", \"not\". \n",
    "# You can assume that the length of the input is greater than or equal to 1.\n"
   ]
  },
  {
   "cell_type": "code",
   "execution_count": 9,
   "id": "14687498",
   "metadata": {},
   "outputs": [
    {
     "name": "stdout",
     "output_type": "stream",
     "text": [
      "Please typeabd\n",
      "short\n"
     ]
    }
   ],
   "source": [
    "def howLong(input):\n",
    "    i = input(\"Please type \")\n",
    "    if len(i) == 1:\n",
    "        print(\"very short\")\n",
    "    elif len(i) <= 5:\n",
    "        print(\"short\")\n",
    "    elif len(i) <= 10:\n",
    "        print(\"long\")\n",
    "    else:\n",
    "        print(\"very long\") \n",
    "\n",
    "howLong(input)"
   ]
  },
  {
   "cell_type": "code",
   "execution_count": null,
   "id": "c54521b5",
   "metadata": {},
   "outputs": [],
   "source": []
  },
  {
   "cell_type": "code",
   "execution_count": null,
   "id": "73454a9d",
   "metadata": {},
   "outputs": [],
   "source": [
    "# PRACTICE PROBLEM 2\n",
    "\n",
    "# On an faraway planet, a golf ball dropped from a height of H will bounce and return to a height of 0.9H.\n",
    "# How many times will the ball bounce (i.e., hit the ground) before it returns to a height less than or \n",
    "# equal to 0.1H?\n",
    "\n",
    "# Write a function that prints out the maximum height reached after each bounce, and returns an integer of\n",
    "# the number of bounces before the max height is less than 0.1H.\n"
   ]
  },
  {
   "cell_type": "code",
   "execution_count": 50,
   "id": "8271075b",
   "metadata": {
    "scrolled": true
   },
   "outputs": [
    {
     "ename": "KeyboardInterrupt",
     "evalue": "Interrupted by user",
     "output_type": "error",
     "traceback": [
      "\u001b[0;31m---------------------------------------------------------------------------\u001b[0m",
      "\u001b[0;31mKeyboardInterrupt\u001b[0m                         Traceback (most recent call last)",
      "Input \u001b[0;32mIn [50]\u001b[0m, in \u001b[0;36m<cell line: 13>\u001b[0;34m()\u001b[0m\n\u001b[1;32m     10\u001b[0m         H1 \u001b[38;5;241m=\u001b[39m \u001b[38;5;241m0.9\u001b[39m\u001b[38;5;241m*\u001b[39mH\n\u001b[1;32m     11\u001b[0m         \u001b[38;5;28mprint\u001b[39m(i)\n\u001b[0;32m---> 13\u001b[0m \u001b[43mballBounce\u001b[49m\u001b[43m(\u001b[49m\u001b[38;5;28;43minput\u001b[39;49m\u001b[43m)\u001b[49m\n",
      "Input \u001b[0;32mIn [50]\u001b[0m, in \u001b[0;36mballBounce\u001b[0;34m(input)\u001b[0m\n\u001b[1;32m      2\u001b[0m \u001b[38;5;28;01mdef\u001b[39;00m \u001b[38;5;21mballBounce\u001b[39m(\u001b[38;5;28minput\u001b[39m):\n\u001b[0;32m----> 3\u001b[0m     H \u001b[38;5;241m=\u001b[39m \u001b[38;5;28;43minput\u001b[39;49m\u001b[43m(\u001b[49m\u001b[38;5;124;43m\"\u001b[39;49m\u001b[38;5;124;43mPlease type in the height \u001b[39;49m\u001b[38;5;124;43m\"\u001b[39;49m\u001b[43m)\u001b[49m\n\u001b[1;32m      4\u001b[0m     H \u001b[38;5;241m=\u001b[39m \u001b[38;5;28mint\u001b[39m(H)\n\u001b[1;32m      5\u001b[0m     H1 \u001b[38;5;241m=\u001b[39m H\n",
      "File \u001b[0;32m~/opt/anaconda3/lib/python3.9/site-packages/ipykernel/kernelbase.py:1075\u001b[0m, in \u001b[0;36mKernel.raw_input\u001b[0;34m(self, prompt)\u001b[0m\n\u001b[1;32m   1071\u001b[0m \u001b[38;5;28;01mif\u001b[39;00m \u001b[38;5;129;01mnot\u001b[39;00m \u001b[38;5;28mself\u001b[39m\u001b[38;5;241m.\u001b[39m_allow_stdin:\n\u001b[1;32m   1072\u001b[0m     \u001b[38;5;28;01mraise\u001b[39;00m StdinNotImplementedError(\n\u001b[1;32m   1073\u001b[0m         \u001b[38;5;124m\"\u001b[39m\u001b[38;5;124mraw_input was called, but this frontend does not support input requests.\u001b[39m\u001b[38;5;124m\"\u001b[39m\n\u001b[1;32m   1074\u001b[0m     )\n\u001b[0;32m-> 1075\u001b[0m \u001b[38;5;28;01mreturn\u001b[39;00m \u001b[38;5;28;43mself\u001b[39;49m\u001b[38;5;241;43m.\u001b[39;49m\u001b[43m_input_request\u001b[49m\u001b[43m(\u001b[49m\n\u001b[1;32m   1076\u001b[0m \u001b[43m    \u001b[49m\u001b[38;5;28;43mstr\u001b[39;49m\u001b[43m(\u001b[49m\u001b[43mprompt\u001b[49m\u001b[43m)\u001b[49m\u001b[43m,\u001b[49m\n\u001b[1;32m   1077\u001b[0m \u001b[43m    \u001b[49m\u001b[38;5;28;43mself\u001b[39;49m\u001b[38;5;241;43m.\u001b[39;49m\u001b[43m_parent_ident\u001b[49m\u001b[43m[\u001b[49m\u001b[38;5;124;43m\"\u001b[39;49m\u001b[38;5;124;43mshell\u001b[39;49m\u001b[38;5;124;43m\"\u001b[39;49m\u001b[43m]\u001b[49m\u001b[43m,\u001b[49m\n\u001b[1;32m   1078\u001b[0m \u001b[43m    \u001b[49m\u001b[38;5;28;43mself\u001b[39;49m\u001b[38;5;241;43m.\u001b[39;49m\u001b[43mget_parent\u001b[49m\u001b[43m(\u001b[49m\u001b[38;5;124;43m\"\u001b[39;49m\u001b[38;5;124;43mshell\u001b[39;49m\u001b[38;5;124;43m\"\u001b[39;49m\u001b[43m)\u001b[49m\u001b[43m,\u001b[49m\n\u001b[1;32m   1079\u001b[0m \u001b[43m    \u001b[49m\u001b[43mpassword\u001b[49m\u001b[38;5;241;43m=\u001b[39;49m\u001b[38;5;28;43;01mFalse\u001b[39;49;00m\u001b[43m,\u001b[49m\n\u001b[1;32m   1080\u001b[0m \u001b[43m\u001b[49m\u001b[43m)\u001b[49m\n",
      "File \u001b[0;32m~/opt/anaconda3/lib/python3.9/site-packages/ipykernel/kernelbase.py:1120\u001b[0m, in \u001b[0;36mKernel._input_request\u001b[0;34m(self, prompt, ident, parent, password)\u001b[0m\n\u001b[1;32m   1117\u001b[0m             \u001b[38;5;28;01mbreak\u001b[39;00m\n\u001b[1;32m   1118\u001b[0m \u001b[38;5;28;01mexcept\u001b[39;00m \u001b[38;5;167;01mKeyboardInterrupt\u001b[39;00m:\n\u001b[1;32m   1119\u001b[0m     \u001b[38;5;66;03m# re-raise KeyboardInterrupt, to truncate traceback\u001b[39;00m\n\u001b[0;32m-> 1120\u001b[0m     \u001b[38;5;28;01mraise\u001b[39;00m \u001b[38;5;167;01mKeyboardInterrupt\u001b[39;00m(\u001b[38;5;124m\"\u001b[39m\u001b[38;5;124mInterrupted by user\u001b[39m\u001b[38;5;124m\"\u001b[39m) \u001b[38;5;28;01mfrom\u001b[39;00m \u001b[38;5;28mNone\u001b[39m\n\u001b[1;32m   1121\u001b[0m \u001b[38;5;28;01mexcept\u001b[39;00m \u001b[38;5;167;01mException\u001b[39;00m:\n\u001b[1;32m   1122\u001b[0m     \u001b[38;5;28mself\u001b[39m\u001b[38;5;241m.\u001b[39mlog\u001b[38;5;241m.\u001b[39mwarning(\u001b[38;5;124m\"\u001b[39m\u001b[38;5;124mInvalid Message:\u001b[39m\u001b[38;5;124m\"\u001b[39m, exc_info\u001b[38;5;241m=\u001b[39m\u001b[38;5;28;01mTrue\u001b[39;00m)\n",
      "\u001b[0;31mKeyboardInterrupt\u001b[0m: Interrupted by user"
     ]
    }
   ],
   "source": [
    "#not resolved\n",
    "def ballBounce(input):\n",
    "    H = input(\"Please type in the height \")\n",
    "    H = int(H)\n",
    "    H1 = H\n",
    "    i=1\n",
    "    \n",
    "    while H1 > 0.1*H:\n",
    "        i += 1\n",
    "        H1 = 0.9*H\n",
    "        print(i)\n",
    "\n",
    "ballBounce(input)\n",
    "\n",
    "# answer is 21 or 22"
   ]
  },
  {
   "cell_type": "code",
   "execution_count": 54,
   "id": "1f740017",
   "metadata": {},
   "outputs": [
    {
     "name": "stdout",
     "output_type": "stream",
     "text": [
      "2\n",
      "3\n",
      "4\n",
      "5\n",
      "6\n",
      "7\n",
      "8\n",
      "9\n",
      "10\n",
      "11\n",
      "12\n",
      "13\n",
      "14\n",
      "15\n",
      "16\n",
      "17\n",
      "18\n",
      "19\n",
      "20\n",
      "21\n",
      "22\n",
      "23\n"
     ]
    }
   ],
   "source": [
    "H=0\n",
    "H = int(H)\n",
    "H1 = H\n",
    "i=0\n",
    "    \n",
    "while H1 > 0.1*H:\n",
    "    i += 1\n",
    "    H1 = 0.9*H1\n",
    "    print(i)"
   ]
  },
  {
   "cell_type": "code",
   "execution_count": null,
   "id": "88ff84ed",
   "metadata": {},
   "outputs": [],
   "source": [
    "# PRACTICE PROBLEM 3\n",
    "\n",
    "# Write a function rollDice that repeatly rolls two six-sided dice, until both dice show '6'.\n",
    "# Print an output that shows on which attempt the double-6 was rolled.\n",
    "\n",
    "# Call the function 20 times.\n"
   ]
  },
  {
   "cell_type": "code",
   "execution_count": 73,
   "id": "31da48b5",
   "metadata": {},
   "outputs": [
    {
     "name": "stdout",
     "output_type": "stream",
     "text": [
      "6   6\n",
      "8\n"
     ]
    }
   ],
   "source": [
    "#draft\n",
    "import random\n",
    "roll = 0\n",
    "\n",
    "dice1 =0\n",
    "dice2 =1\n",
    "\n",
    "# do whatever is below while both the dices are same \n",
    "while dice1!=6 and dice2!=6:\n",
    "    \n",
    "    dice1 = random.randint(1,6)\n",
    "    dice2 = random.randint(1,6)\n",
    "    roll += 1\n",
    "print(dice1,\" \",dice2)\n",
    "print(roll)"
   ]
  },
  {
   "cell_type": "code",
   "execution_count": 60,
   "id": "48afcf2e",
   "metadata": {},
   "outputs": [
    {
     "ename": "SyntaxError",
     "evalue": "invalid syntax (1826103788.py, line 10)",
     "output_type": "error",
     "traceback": [
      "\u001b[0;36m  Input \u001b[0;32mIn [60]\u001b[0;36m\u001b[0m\n\u001b[0;31m    def rollDice()\u001b[0m\n\u001b[0m                  ^\u001b[0m\n\u001b[0;31mSyntaxError\u001b[0m\u001b[0;31m:\u001b[0m invalid syntax\n"
     ]
    }
   ],
   "source": [
    "from random import randint\n",
    "\n",
    "def rollDice():\n",
    "    roll = 1\n",
    "    while(True):\n",
    "        if randint(1,6) == 6 and randint(1,6):\n",
    "            roll=+1\n",
    "            print(\"success, roll\")\n",
    "    \n",
    "    break\n",
    "                \n",
    "def rollDice()"
   ]
  },
  {
   "cell_type": "code",
   "execution_count": null,
   "id": "6f4859ff",
   "metadata": {},
   "outputs": [],
   "source": [
    "# PRACTICE PROBLEM 4A\n",
    "\n",
    "# Write a function MaskNumbers that accepts a variable length input string of at least length 5,\n",
    "# raise an error if length is less than 5, \n",
    "# and returns a string of equal length with all but the last 4 digits/characters replaced by an X\n"
   ]
  },
  {
   "cell_type": "code",
   "execution_count": null,
   "id": "a64c91d5",
   "metadata": {},
   "outputs": [],
   "source": [
    "def MaskNumbers()\n",
    "    i = input(\"Please write your number\")\n",
    "    if len(i) < 5:\n",
    "        raise ValueError(\"the length has to be more than 5\")\n",
    "    \n",
    "    elif\n",
    "    return \n",
    "    "
   ]
  },
  {
   "cell_type": "code",
   "execution_count": null,
   "id": "2ff14689",
   "metadata": {},
   "outputs": [],
   "source": []
  },
  {
   "cell_type": "code",
   "execution_count": null,
   "id": "c381cb57",
   "metadata": {},
   "outputs": [],
   "source": [
    "# PRACTICE PROBLEM 4B\n",
    "\n",
    "# reimplement MaskNumbers with (or without) a while loop\n"
   ]
  },
  {
   "cell_type": "code",
   "execution_count": null,
   "id": "3be857df",
   "metadata": {},
   "outputs": [],
   "source": []
  },
  {
   "cell_type": "code",
   "execution_count": null,
   "id": "5299d551",
   "metadata": {},
   "outputs": [],
   "source": []
  },
  {
   "cell_type": "code",
   "execution_count": null,
   "id": "fd33dd26",
   "metadata": {},
   "outputs": [],
   "source": [
    "# PRACTICE PROBLEM 4C\n",
    "\n",
    "# reimplement MaskNumbers using a for loop\n"
   ]
  },
  {
   "cell_type": "code",
   "execution_count": null,
   "id": "3365c8a3",
   "metadata": {},
   "outputs": [],
   "source": []
  },
  {
   "cell_type": "code",
   "execution_count": null,
   "id": "a2977481",
   "metadata": {},
   "outputs": [],
   "source": []
  }
 ],
 "metadata": {
  "kernelspec": {
   "display_name": "Python 3 (ipykernel)",
   "language": "python",
   "name": "python3"
  },
  "language_info": {
   "codemirror_mode": {
    "name": "ipython",
    "version": 3
   },
   "file_extension": ".py",
   "mimetype": "text/x-python",
   "name": "python",
   "nbconvert_exporter": "python",
   "pygments_lexer": "ipython3",
   "version": "3.9.12"
  }
 },
 "nbformat": 4,
 "nbformat_minor": 5
}
