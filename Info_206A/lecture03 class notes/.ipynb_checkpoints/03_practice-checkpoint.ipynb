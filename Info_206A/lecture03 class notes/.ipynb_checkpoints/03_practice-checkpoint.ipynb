{
 "cells": [
  {
   "cell_type": "code",
   "execution_count": null,
   "id": "883b1eac",
   "metadata": {},
   "outputs": [],
   "source": [
    "# PRACTICE PROBLEM 1\n",
    "\n",
    "# Write a function howLong that takes as input a string and \n",
    "# prints the string \"very short\" if the length of the input is 1, \n",
    "# prints \"short\" if the length of the string is greater than 1 and less than or equal to 5, \n",
    "# prints \"long\" if the length of the string is greater than 5 and less than or equal to 10, and \n",
    "# prints \"very long\" otherwise. \n",
    "\n",
    "# Your solution cannot use the logical operators \"and\", \"or\", \"not\". \n",
    "# You can assume that the length of the input is greater than or equal to 1.\n"
   ]
  },
  {
   "cell_type": "code",
   "execution_count": 9,
   "id": "14687498",
   "metadata": {},
   "outputs": [
    {
     "name": "stdout",
     "output_type": "stream",
     "text": [
      "Please typeabd\n",
      "short\n"
     ]
    }
   ],
   "source": [
    "def howLong(input):\n",
    "    i = input(\"Please type \")\n",
    "    if len(i) == 1:\n",
    "        print(\"very short\")\n",
    "    elif len(i) <= 5:\n",
    "        print(\"short\")\n",
    "    elif len(i) <= 10:\n",
    "        print(\"long\")\n",
    "    else:\n",
    "        print(\"very long\") \n",
    "\n",
    "howLong(input)"
   ]
  },
  {
   "cell_type": "code",
   "execution_count": null,
   "id": "c54521b5",
   "metadata": {},
   "outputs": [],
   "source": []
  },
  {
   "cell_type": "code",
   "execution_count": null,
   "id": "73454a9d",
   "metadata": {},
   "outputs": [],
   "source": [
    "# PRACTICE PROBLEM 2\n",
    "\n",
    "# On an faraway planet, a golf ball dropped from a height of H will bounce and return to a height of 0.9H.\n",
    "# How many times will the ball bounce (i.e., hit the ground) before it returns to a height less than or \n",
    "# equal to 0.1H?\n",
    "\n",
    "# Write a function that prints out the maximum height reached after each bounce, and returns an integer of\n",
    "# the number of bounces before the max height is less than 0.1H.\n"
   ]
  },
  {
   "cell_type": "code",
   "execution_count": 30,
   "id": "8271075b",
   "metadata": {},
   "outputs": [
    {
     "name": "stdout",
     "output_type": "stream",
     "text": [
      "10\n"
     ]
    }
   ],
   "source": [
    "def ballBounce(input):\n",
    "    H = input(\"Please type in the height \")\n",
    "    H = int(H)\n",
    "    H1 = 0.9*H\n",
    "    i=0\n",
    "    \n",
    "    while H1 > 0.1*H:\n",
    "        i+=1\n",
    "        \n",
    "print(i)\n",
    "        \n",
    "        \n",
    "#     H1=0.9H\n",
    "    \n",
    "#     if H1 < 0.1H:\n",
    "#         print(\"the number of bounces is\", )\n",
    "\n",
    "# i=0\n",
    "# while i < 10:\n",
    "#     i+=1\n",
    "#     print(i)"
   ]
  },
  {
   "cell_type": "code",
   "execution_count": null,
   "id": "1f740017",
   "metadata": {},
   "outputs": [],
   "source": []
  },
  {
   "cell_type": "code",
   "execution_count": null,
   "id": "88ff84ed",
   "metadata": {},
   "outputs": [],
   "source": [
    "# PRACTICE PROBLEM 3\n",
    "\n",
    "# Write a function rollDice that repeatly rolls two six-sided dice, until both dice show '6'.\n",
    "# Print an output that shows on which attempt the double-6 was rolled.\n",
    "\n",
    "# Call the function 20 times.\n"
   ]
  },
  {
   "cell_type": "code",
   "execution_count": null,
   "id": "31da48b5",
   "metadata": {},
   "outputs": [],
   "source": []
  },
  {
   "cell_type": "code",
   "execution_count": null,
   "id": "48afcf2e",
   "metadata": {},
   "outputs": [],
   "source": []
  },
  {
   "cell_type": "code",
   "execution_count": null,
   "id": "6f4859ff",
   "metadata": {},
   "outputs": [],
   "source": [
    "# PRACTICE PROBLEM 4A\n",
    "\n",
    "# Write a function MaskNumbers that accepts a variable length input string of at least length 5,\n",
    "# raise an error if length is less than 5, \n",
    "# and returns a string of equal length with all but the last 4 digits/characters replaced by an X\n"
   ]
  },
  {
   "cell_type": "code",
   "execution_count": null,
   "id": "a64c91d5",
   "metadata": {},
   "outputs": [],
   "source": []
  },
  {
   "cell_type": "code",
   "execution_count": null,
   "id": "2ff14689",
   "metadata": {},
   "outputs": [],
   "source": []
  },
  {
   "cell_type": "code",
   "execution_count": null,
   "id": "c381cb57",
   "metadata": {},
   "outputs": [],
   "source": [
    "# PRACTICE PROBLEM 4B\n",
    "\n",
    "# reimplement MaskNumbers with (or without) a while loop\n"
   ]
  },
  {
   "cell_type": "code",
   "execution_count": null,
   "id": "3be857df",
   "metadata": {},
   "outputs": [],
   "source": []
  },
  {
   "cell_type": "code",
   "execution_count": null,
   "id": "5299d551",
   "metadata": {},
   "outputs": [],
   "source": []
  },
  {
   "cell_type": "code",
   "execution_count": null,
   "id": "fd33dd26",
   "metadata": {},
   "outputs": [],
   "source": [
    "# PRACTICE PROBLEM 4C\n",
    "\n",
    "# reimplement MaskNumbers using a for loop\n"
   ]
  },
  {
   "cell_type": "code",
   "execution_count": null,
   "id": "3365c8a3",
   "metadata": {},
   "outputs": [],
   "source": []
  },
  {
   "cell_type": "code",
   "execution_count": null,
   "id": "a2977481",
   "metadata": {},
   "outputs": [],
   "source": []
  }
 ],
 "metadata": {
  "kernelspec": {
   "display_name": "Python 3 (ipykernel)",
   "language": "python",
   "name": "python3"
  },
  "language_info": {
   "codemirror_mode": {
    "name": "ipython",
    "version": 3
   },
   "file_extension": ".py",
   "mimetype": "text/x-python",
   "name": "python",
   "nbconvert_exporter": "python",
   "pygments_lexer": "ipython3",
   "version": "3.9.12"
  }
 },
 "nbformat": 4,
 "nbformat_minor": 5
}
