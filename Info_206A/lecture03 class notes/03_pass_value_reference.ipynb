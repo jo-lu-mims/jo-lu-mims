{
 "cells": [
  {
   "cell_type": "code",
   "execution_count": 1,
   "id": "1657fc1e",
   "metadata": {},
   "outputs": [],
   "source": [
    "# OPTIONAL DISCUSSION: is python \"pass by value\" or \"pass by reference\"?\n",
    "\n",
    "# Answer: neither; it is \"pass by object reference\"\n",
    "\n",
    "# Its behavior depends on the type of parameter being passed into the function, \n",
    "# and what operations are performed within the function\n",
    "\n",
    "# For strings, (and int, float, boolean), the behavior is like \"passing by value\"\n",
    "# For lists, (and dictionaries), the behavior can be like \"passing by value\" or \"pass by reference\"..."
   ]
  },
  {
   "cell_type": "code",
   "execution_count": 2,
   "id": "37215c59",
   "metadata": {},
   "outputs": [
    {
     "name": "stdout",
     "output_type": "stream",
     "text": [
      "Inside the function: Johnny\n",
      "Outside the function: John\n"
     ]
    }
   ],
   "source": [
    "# Case 1: parameter passed into function is a string\n",
    "\n",
    "student = \"John\"\n",
    "def test(student):\n",
    "    new = \"Johnny\"\n",
    "    student = new\n",
    "    print(\"Inside the function:\", student)\n",
    "    return \n",
    "test(student)\n",
    "print(\"Outside the function:\", student)"
   ]
  },
  {
   "cell_type": "code",
   "execution_count": 3,
   "id": "cd4ad4bb",
   "metadata": {},
   "outputs": [
    {
     "name": "stdout",
     "output_type": "stream",
     "text": [
      "Inside the function: JohnJohnny\n",
      "Outside the function: John\n"
     ]
    }
   ],
   "source": [
    "student = \"John\"\n",
    "def test(student):\n",
    "    new = \"Johnny\"\n",
    "    student = student + new\n",
    "    print(\"Inside the function:\", student)\n",
    "\n",
    "test(student)\n",
    "print(\"Outside the function:\", student)"
   ]
  },
  {
   "cell_type": "code",
   "execution_count": 4,
   "id": "a771182c",
   "metadata": {},
   "outputs": [
    {
     "name": "stdout",
     "output_type": "stream",
     "text": [
      "Inside the function: ['Johnny']\n",
      "Outside the function: ['John']\n"
     ]
    }
   ],
   "source": [
    "# Case 2A: parameter passed into function is a list\n",
    "\n",
    "student = [\"John\"]\n",
    "def test(student):\n",
    "    new = [\"Johnny\"]\n",
    "    student = new ## this assignment results in new list object stored in a different memory location\n",
    "    print(\"Inside the function:\", student)\n",
    "\n",
    "test(student)\n",
    "print(\"Outside the function:\", student)"
   ]
  },
  {
   "cell_type": "code",
   "execution_count": 5,
   "id": "24712baf",
   "metadata": {},
   "outputs": [
    {
     "name": "stdout",
     "output_type": "stream",
     "text": [
      "Inside the function: ['John', 'Johnny']\n",
      "Outside the function: ['John', 'Johnny']\n"
     ]
    }
   ],
   "source": [
    "# Case 2B: parameter passed into function is a list\n",
    "\n",
    "student = [\"John\"]\n",
    "def test(student):\n",
    "    new = \"Johnny\"\n",
    "    student.append(new) ## list is modified in-place\n",
    "    print(\"Inside the function:\", student)\n",
    "\n",
    "test(student)\n",
    "print(\"Outside the function:\", student)"
   ]
  },
  {
   "cell_type": "code",
   "execution_count": 6,
   "id": "4817c99f",
   "metadata": {},
   "outputs": [],
   "source": [
    "# Note: a python string is an immutable object, so you cannot modify a string, only return a new one \n",
    "# (at a new memory location)(Case 1)\n",
    "\n",
    "# A python list, on the other hand, is a mutable object, so it can be modified in-place \n",
    "# (in the same memory location)(Case 2B)\n",
    "\n",
    "# However, if you make a new assignment to a list, a new list object is created at a new memory location.\n",
    "# So, the existing list at the original memory location is not changed. (Case 2A)\n",
    "\n",
    "# Further reading: https://stackoverflow.com/questions/986006/how-do-i-pass-a-variable-by-reference"
   ]
  },
  {
   "cell_type": "code",
   "execution_count": null,
   "id": "81fe8472",
   "metadata": {},
   "outputs": [],
   "source": []
  }
 ],
 "metadata": {
  "kernelspec": {
   "display_name": "Python 3 (ipykernel)",
   "language": "python",
   "name": "python3"
  },
  "language_info": {
   "codemirror_mode": {
    "name": "ipython",
    "version": 3
   },
   "file_extension": ".py",
   "mimetype": "text/x-python",
   "name": "python",
   "nbconvert_exporter": "python",
   "pygments_lexer": "ipython3",
   "version": "3.9.12"
  }
 },
 "nbformat": 4,
 "nbformat_minor": 5
}
