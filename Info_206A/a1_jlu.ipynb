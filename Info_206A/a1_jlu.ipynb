{
 "cells": [
  {
   "cell_type": "code",
   "execution_count": 3,
   "id": "2f62d548",
   "metadata": {},
   "outputs": [],
   "source": [
    "import drawSvg as draw"
   ]
  },
  {
   "cell_type": "code",
   "execution_count": 10,
   "id": "6b20ee5e",
   "metadata": {},
   "outputs": [
    {
     "ename": "RuntimeError",
     "evalue": "Failed to import CairoSVG. drawSvg will be unable to output PNG or other raster image formats. See https://github.com/cduck/drawSvg#prerequisites for more details.\nOriginal OSError: no library called \"cairo-2\" was found\nno library called \"cairo\" was found\nno library called \"libcairo-2\" was found\ncannot load library 'libcairo.so.2': dlopen(libcairo.so.2, 0x0002): tried: '/Users/ziqiwang/opt/anaconda3/lib/libcairo.so.2' (no such file), '/Users/ziqiwang/opt/anaconda3/lib/libcairo.so.2' (no such file), '/Users/ziqiwang/opt/anaconda3/lib/python3.9/site-packages/../../libcairo.so.2' (no such file), '/Users/ziqiwang/opt/anaconda3/lib/libcairo.so.2' (no such file), '/Users/ziqiwang/opt/anaconda3/bin/../lib/libcairo.so.2' (no such file), 'libcairo.so.2' (no such file), '/usr/local/lib/libcairo.so.2' (no such file), '/usr/lib/libcairo.so.2' (no such file), '/Users/ziqiwang/Documents/Info_206A/libcairo.so.2' (no such file)\ncannot load library 'libcairo.2.dylib': dlopen(libcairo.2.dylib, 0x0002): tried: '/Users/ziqiwang/opt/anaconda3/lib/libcairo.2.dylib' (no such file), '/Users/ziqiwang/opt/anaconda3/lib/libcairo.2.dylib' (no such file), '/Users/ziqiwang/opt/anaconda3/lib/python3.9/site-packages/../../libcairo.2.dylib' (no such file), '/Users/ziqiwang/opt/anaconda3/lib/libcairo.2.dylib' (no such file), '/Users/ziqiwang/opt/anaconda3/bin/../lib/libcairo.2.dylib' (no such file), 'libcairo.2.dylib' (no such file), '/usr/local/lib/libcairo.2.dylib' (no such file), '/usr/lib/libcairo.2.dylib' (no such file), '/Users/ziqiwang/Documents/Info_206A/libcairo.2.dylib' (no such file)\ncannot load library 'libcairo-2.dll': dlopen(libcairo-2.dll, 0x0002): tried: '/Users/ziqiwang/opt/anaconda3/lib/libcairo-2.dll' (no such file), '/Users/ziqiwang/opt/anaconda3/lib/libcairo-2.dll' (no such file), '/Users/ziqiwang/opt/anaconda3/lib/python3.9/site-packages/../../libcairo-2.dll' (no such file), '/Users/ziqiwang/opt/anaconda3/lib/libcairo-2.dll' (no such file), '/Users/ziqiwang/opt/anaconda3/bin/../lib/libcairo-2.dll' (no such file), 'libcairo-2.dll' (no such file), '/usr/local/lib/libcairo-2.dll' (no such file), '/usr/lib/libcairo-2.dll' (no such file), '/Users/ziqiwang/Documents/Info_206A/libcairo-2.dll' (no such file)",
     "output_type": "error",
     "traceback": [
      "\u001b[0;31m---------------------------------------------------------------------------\u001b[0m",
      "\u001b[0;31mRuntimeError\u001b[0m                              Traceback (most recent call last)",
      "Input \u001b[0;32mIn [10]\u001b[0m, in \u001b[0;36m<cell line: 15>\u001b[0;34m()\u001b[0m\n\u001b[1;32m     13\u001b[0m \u001b[38;5;66;03m#d.setRenderSize(400,200)  # Alternative to setPixelScale\u001b[39;00m\n\u001b[1;32m     14\u001b[0m d\u001b[38;5;241m.\u001b[39msaveSvg(\u001b[38;5;124m'\u001b[39m\u001b[38;5;124mexample.svg\u001b[39m\u001b[38;5;124m'\u001b[39m)\n\u001b[0;32m---> 15\u001b[0m \u001b[43md\u001b[49m\u001b[38;5;241;43m.\u001b[39;49m\u001b[43msavePng\u001b[49m\u001b[43m(\u001b[49m\u001b[38;5;124;43m'\u001b[39;49m\u001b[38;5;124;43mexample.png\u001b[39;49m\u001b[38;5;124;43m'\u001b[39;49m\u001b[43m)\u001b[49m\n\u001b[1;32m     17\u001b[0m \u001b[38;5;66;03m# Display in Jupyter notebook\u001b[39;00m\n\u001b[1;32m     18\u001b[0m d\u001b[38;5;241m.\u001b[39mrasterize()  \u001b[38;5;66;03m# Display as PNG\u001b[39;00m\n",
      "File \u001b[0;32m~/opt/anaconda3/lib/python3.9/site-packages/drawSvg/drawing.py:177\u001b[0m, in \u001b[0;36mDrawing.savePng\u001b[0;34m(self, fname)\u001b[0m\n\u001b[1;32m    176\u001b[0m \u001b[38;5;28;01mdef\u001b[39;00m \u001b[38;5;21msavePng\u001b[39m(\u001b[38;5;28mself\u001b[39m, fname):\n\u001b[0;32m--> 177\u001b[0m     \u001b[38;5;28;43mself\u001b[39;49m\u001b[38;5;241;43m.\u001b[39;49m\u001b[43mrasterize\u001b[49m\u001b[43m(\u001b[49m\u001b[43mtoFile\u001b[49m\u001b[38;5;241;43m=\u001b[39;49m\u001b[43mfname\u001b[49m\u001b[43m)\u001b[49m\n",
      "File \u001b[0;32m~/opt/anaconda3/lib/python3.9/site-packages/drawSvg/drawing.py:180\u001b[0m, in \u001b[0;36mDrawing.rasterize\u001b[0;34m(self, toFile)\u001b[0m\n\u001b[1;32m    178\u001b[0m \u001b[38;5;28;01mdef\u001b[39;00m \u001b[38;5;21mrasterize\u001b[39m(\u001b[38;5;28mself\u001b[39m, toFile\u001b[38;5;241m=\u001b[39m\u001b[38;5;28;01mNone\u001b[39;00m):\n\u001b[1;32m    179\u001b[0m     \u001b[38;5;28;01mif\u001b[39;00m toFile:\n\u001b[0;32m--> 180\u001b[0m         \u001b[38;5;28;01mreturn\u001b[39;00m \u001b[43mRaster\u001b[49m\u001b[38;5;241;43m.\u001b[39;49m\u001b[43mfromSvgToFile\u001b[49m\u001b[43m(\u001b[49m\u001b[38;5;28;43mself\u001b[39;49m\u001b[38;5;241;43m.\u001b[39;49m\u001b[43masSvg\u001b[49m\u001b[43m(\u001b[49m\u001b[43m)\u001b[49m\u001b[43m,\u001b[49m\u001b[43m \u001b[49m\u001b[43mtoFile\u001b[49m\u001b[43m)\u001b[49m\n\u001b[1;32m    181\u001b[0m     \u001b[38;5;28;01melse\u001b[39;00m:\n\u001b[1;32m    182\u001b[0m         \u001b[38;5;28;01mreturn\u001b[39;00m Raster\u001b[38;5;241m.\u001b[39mfromSvg(\u001b[38;5;28mself\u001b[39m\u001b[38;5;241m.\u001b[39masSvg())\n",
      "File \u001b[0;32m~/opt/anaconda3/lib/python3.9/site-packages/drawSvg/raster.py:41\u001b[0m, in \u001b[0;36mRaster.fromSvgToFile\u001b[0;34m(svgData, outFile)\u001b[0m\n\u001b[1;32m     39\u001b[0m \u001b[38;5;129m@staticmethod\u001b[39m\n\u001b[1;32m     40\u001b[0m \u001b[38;5;28;01mdef\u001b[39;00m \u001b[38;5;21mfromSvgToFile\u001b[39m(svgData, outFile):\n\u001b[0;32m---> 41\u001b[0m     \u001b[43mcairosvg\u001b[49m\u001b[38;5;241;43m.\u001b[39;49m\u001b[43msvg2png\u001b[49m(bytestring\u001b[38;5;241m=\u001b[39msvgData, write_to\u001b[38;5;241m=\u001b[39moutFile)\n\u001b[1;32m     42\u001b[0m     \u001b[38;5;28;01mreturn\u001b[39;00m Raster(\u001b[38;5;28;01mNone\u001b[39;00m, pngFile\u001b[38;5;241m=\u001b[39moutFile)\n",
      "File \u001b[0;32m~/opt/anaconda3/lib/python3.9/site-packages/drawSvg/missing.py:6\u001b[0m, in \u001b[0;36mMissingModule.__getattr__\u001b[0;34m(self, name)\u001b[0m\n\u001b[1;32m      5\u001b[0m \u001b[38;5;28;01mdef\u001b[39;00m \u001b[38;5;21m__getattr__\u001b[39m(\u001b[38;5;28mself\u001b[39m, name):\n\u001b[0;32m----> 6\u001b[0m     \u001b[38;5;28;01mraise\u001b[39;00m \u001b[38;5;167;01mRuntimeError\u001b[39;00m(\u001b[38;5;28mself\u001b[39m\u001b[38;5;241m.\u001b[39merrorMsg)\n",
      "\u001b[0;31mRuntimeError\u001b[0m: Failed to import CairoSVG. drawSvg will be unable to output PNG or other raster image formats. See https://github.com/cduck/drawSvg#prerequisites for more details.\nOriginal OSError: no library called \"cairo-2\" was found\nno library called \"cairo\" was found\nno library called \"libcairo-2\" was found\ncannot load library 'libcairo.so.2': dlopen(libcairo.so.2, 0x0002): tried: '/Users/ziqiwang/opt/anaconda3/lib/libcairo.so.2' (no such file), '/Users/ziqiwang/opt/anaconda3/lib/libcairo.so.2' (no such file), '/Users/ziqiwang/opt/anaconda3/lib/python3.9/site-packages/../../libcairo.so.2' (no such file), '/Users/ziqiwang/opt/anaconda3/lib/libcairo.so.2' (no such file), '/Users/ziqiwang/opt/anaconda3/bin/../lib/libcairo.so.2' (no such file), 'libcairo.so.2' (no such file), '/usr/local/lib/libcairo.so.2' (no such file), '/usr/lib/libcairo.so.2' (no such file), '/Users/ziqiwang/Documents/Info_206A/libcairo.so.2' (no such file)\ncannot load library 'libcairo.2.dylib': dlopen(libcairo.2.dylib, 0x0002): tried: '/Users/ziqiwang/opt/anaconda3/lib/libcairo.2.dylib' (no such file), '/Users/ziqiwang/opt/anaconda3/lib/libcairo.2.dylib' (no such file), '/Users/ziqiwang/opt/anaconda3/lib/python3.9/site-packages/../../libcairo.2.dylib' (no such file), '/Users/ziqiwang/opt/anaconda3/lib/libcairo.2.dylib' (no such file), '/Users/ziqiwang/opt/anaconda3/bin/../lib/libcairo.2.dylib' (no such file), 'libcairo.2.dylib' (no such file), '/usr/local/lib/libcairo.2.dylib' (no such file), '/usr/lib/libcairo.2.dylib' (no such file), '/Users/ziqiwang/Documents/Info_206A/libcairo.2.dylib' (no such file)\ncannot load library 'libcairo-2.dll': dlopen(libcairo-2.dll, 0x0002): tried: '/Users/ziqiwang/opt/anaconda3/lib/libcairo-2.dll' (no such file), '/Users/ziqiwang/opt/anaconda3/lib/libcairo-2.dll' (no such file), '/Users/ziqiwang/opt/anaconda3/lib/python3.9/site-packages/../../libcairo-2.dll' (no such file), '/Users/ziqiwang/opt/anaconda3/lib/libcairo-2.dll' (no such file), '/Users/ziqiwang/opt/anaconda3/bin/../lib/libcairo-2.dll' (no such file), 'libcairo-2.dll' (no such file), '/usr/local/lib/libcairo-2.dll' (no such file), '/usr/lib/libcairo-2.dll' (no such file), '/Users/ziqiwang/Documents/Info_206A/libcairo-2.dll' (no such file)"
     ]
    }
   ],
   "source": [
    "d = draw.Drawing(200, 100, origin='center', displayInline=False)\n",
    "\n",
    "# Draw an irregular polygon\n",
    "d.append(draw.Lines(-80, -45,\n",
    "                    70, -49,\n",
    "                    95, 49,\n",
    "                    -90, 40,\n",
    "                    close=False,\n",
    "            fill='#eeee00',\n",
    "            stroke='black'))\n",
    "\n",
    "d.setPixelScale(2)  # Set number of pixels per geometry unit\n",
    "#d.setRenderSize(400,200)  # Alternative to setPixelScale\n",
    "d.saveSvg('example.svg')\n",
    "d.savePng('example.png')\n",
    "\n",
    "# Display in Jupyter notebook\n",
    "d.rasterize()  # Display as PNG\n",
    "d  # Display as SVG"
   ]
  }
 ],
 "metadata": {
  "kernelspec": {
   "display_name": "Python 3 (ipykernel)",
   "language": "python",
   "name": "python3"
  },
  "language_info": {
   "codemirror_mode": {
    "name": "ipython",
    "version": 3
   },
   "file_extension": ".py",
   "mimetype": "text/x-python",
   "name": "python",
   "nbconvert_exporter": "python",
   "pygments_lexer": "ipython3",
   "version": "3.9.12"
  }
 },
 "nbformat": 4,
 "nbformat_minor": 5
}
