{
 "cells": [
  {
   "cell_type": "code",
   "execution_count": 7,
   "id": "3216e2db",
   "metadata": {},
   "outputs": [
    {
     "name": "stdout",
     "output_type": "stream",
     "text": [
      "Jupitor's first moon is Europa.\n",
      "['Europa', 'Ganymede', 'Callisto']\n"
     ]
    }
   ],
   "source": [
    "moons = [\"Europa\",\"Ganymede\", \"Callisto\"]\n",
    "print(\"Jupitor's first moon is \" + moons[0]+\".\")\n",
    "print(list(moons))"
   ]
  },
  {
   "cell_type": "code",
   "execution_count": 6,
   "id": "3846e03b",
   "metadata": {},
   "outputs": [
    {
     "name": "stdout",
     "output_type": "stream",
     "text": [
      "[]\n"
     ]
    }
   ],
   "source": [
    "nothing=[]\n",
    "print(list(nothing))"
   ]
  },
  {
   "cell_type": "raw",
   "id": "c1a442a8",
   "metadata": {},
   "source": []
  },
  {
   "cell_type": "code",
   "execution_count": 10,
   "id": "5d8c8a5c",
   "metadata": {},
   "outputs": [
    {
     "name": "stdout",
     "output_type": "stream",
     "text": [
      "['horton', '2', 'mayzie']\n",
      "3\n"
     ]
    }
   ],
   "source": [
    "characters=[\"horton\", \"lorax\", \"mayzie\"]\n",
    "characters[1]=\"2\"\n",
    "print(characters)\n",
    "x = len(characters)\n",
    "print(x)"
   ]
  },
  {
   "cell_type": "code",
   "execution_count": 13,
   "id": "eb132728",
   "metadata": {},
   "outputs": [
    {
     "name": "stdout",
     "output_type": "stream",
     "text": [
      "0\n",
      "1\n",
      "2\n",
      "3\n",
      "4\n",
      "5\n",
      "6\n",
      "7\n",
      "8\n",
      "9\n"
     ]
    }
   ],
   "source": [
    "for i in range(10):\n",
    " \n",
    "  print(i)"
   ]
  },
  {
   "cell_type": "code",
   "execution_count": 20,
   "id": "b2786040",
   "metadata": {},
   "outputs": [
    {
     "ename": "SyntaxError",
     "evalue": "invalid syntax (2358567650.py, line 2)",
     "output_type": "error",
     "traceback": [
      "\u001b[0;36m  Input \u001b[0;32mIn [20]\u001b[0;36m\u001b[0m\n\u001b[0;31m    while:\u001b[0m\n\u001b[0m         ^\u001b[0m\n\u001b[0;31mSyntaxError\u001b[0m\u001b[0;31m:\u001b[0m invalid syntax\n"
     ]
    }
   ],
   "source": [
    "i = 0\n",
    "while:\n",
    "    if i < 3:\n",
    "        print(i)\n",
    "        i += 1\n",
    "    else:\n",
    "        print(\"i>=3!\")\n",
    "        break"
   ]
  },
  {
   "cell_type": "code",
   "execution_count": 23,
   "id": "645f0d15",
   "metadata": {},
   "outputs": [
    {
     "ename": "SyntaxError",
     "evalue": "invalid syntax (3360680878.py, line 5)",
     "output_type": "error",
     "traceback": [
      "\u001b[0;36m  Input \u001b[0;32mIn [23]\u001b[0;36m\u001b[0m\n\u001b[0;31m    else:\u001b[0m\n\u001b[0m    ^\u001b[0m\n\u001b[0;31mSyntaxError\u001b[0m\u001b[0;31m:\u001b[0m invalid syntax\n"
     ]
    }
   ],
   "source": [
    "i = 0\n",
    "while i < 3:\n",
    "    print(i)\n",
    "    i += 1\n",
    "    else:\n",
    "        print(\"i>=3!\")\n",
    "        break"
   ]
  },
  {
   "cell_type": "code",
   "execution_count": 19,
   "id": "3f508753",
   "metadata": {},
   "outputs": [
    {
     "ename": "SyntaxError",
     "evalue": "invalid character '：' (U+FF1A) (1112199143.py, line 11)",
     "output_type": "error",
     "traceback": [
      "\u001b[0;36m  Input \u001b[0;32mIn [19]\u001b[0;36m\u001b[0m\n\u001b[0;31m    else：\u001b[0m\n\u001b[0m        ^\u001b[0m\n\u001b[0;31mSyntaxError\u001b[0m\u001b[0;31m:\u001b[0m invalid character '：' (U+FF1A)\n"
     ]
    }
   ],
   "source": [
    "i = 0\n",
    " \n",
    "while True:\n",
    " \n",
    "  if i<3:\n",
    " \n",
    "    print(i)\n",
    " \n",
    "    i += 1\n",
    " \n",
    "  else：\n",
    " \n",
    "    print(\"i>=3啦!\")\n",
    " \n",
    "    break"
   ]
  },
  {
   "cell_type": "code",
   "execution_count": 33,
   "id": "1d217421",
   "metadata": {},
   "outputs": [
    {
     "name": "stdout",
     "output_type": "stream",
     "text": [
      "1 is odd\n",
      "7 is odd\n",
      "4 is even\n",
      "10 is even\n",
      "8 is even\n"
     ]
    }
   ],
   "source": [
    "# for loop, take value\n",
    "num = [1,7,4,10,8]\n",
    "for i in num:\n",
    "    if i%2==0:\n",
    "        print(str(i)+\" is even\")\n",
    "    elif i%2==1:\n",
    "        print(str(i)+\" is odd\")\n"
   ]
  },
  {
   "cell_type": "code",
   "execution_count": 35,
   "id": "68a423e7",
   "metadata": {},
   "outputs": [
    {
     "name": "stdout",
     "output_type": "stream",
     "text": [
      "1 is odd\n",
      "7 is odd\n",
      "4 is even\n",
      "10 is even\n",
      "8 is even\n"
     ]
    }
   ],
   "source": [
    "# for loop + take index\n",
    "num = [1,7,4,10,8]\n",
    "for i in range(0,len(num)):\n",
    "    if num[i]%2==0:\n",
    "        print(str(num[i])+\" is even\")\n",
    "    else:\n",
    "        print(str(num[i])+\" is odd\")\n"
   ]
  },
  {
   "cell_type": "code",
   "execution_count": 36,
   "id": "be9f61ea",
   "metadata": {},
   "outputs": [
    {
     "name": "stdout",
     "output_type": "stream",
     "text": [
      "1 is odd\n",
      "7 is odd\n",
      "4 is even\n",
      "10 is even\n",
      "8 is even\n"
     ]
    }
   ],
   "source": [
    "# while loop + take index\n",
    "num = [1,7,4,10,8]\n",
    "i=0\n",
    "while i<len(num):\n",
    "    if num[i]%2==0:\n",
    "        print(str(num[i])+\" is even\")\n",
    "        i+=1\n",
    "    else:\n",
    "        print(str(num[i])+\" is odd\")\n",
    "        i+=1"
   ]
  },
  {
   "cell_type": "code",
   "execution_count": 45,
   "id": "d4b7a3e7",
   "metadata": {},
   "outputs": [
    {
     "name": "stdout",
     "output_type": "stream",
     "text": [
      "['a', 'b', 'c', 'd', 'e']\n",
      "['e', 'b', 'c', 'd', 'a']\n"
     ]
    }
   ],
   "source": [
    "#reverse list\n",
    "L = ['a','b',\"c\",'d','e']\n",
    "temp = L[0]\n",
    "print(L)\n",
    "L[0]=L[4]\n",
    "L[4]= temp\n",
    "print(L)"
   ]
  },
  {
   "cell_type": "code",
   "execution_count": null,
   "id": "889c952f",
   "metadata": {},
   "outputs": [],
   "source": [
    "#reverse list with function\n",
    "L = ['a','b',\"c\",'d','e','f']\n",
    "L.reverse()\n",
    "print(L)"
   ]
  },
  {
   "cell_type": "code",
   "execution_count": 46,
   "id": "97cfe115",
   "metadata": {},
   "outputs": [
    {
     "name": "stdout",
     "output_type": "stream",
     "text": [
      "[15, 13, 11, 9, 7, 5, 3, 1]\n"
     ]
    }
   ],
   "source": [
    "#reverse list with most basic and while loop\n",
    "\n",
    "L=[1,3,5,7,9,11,13,15]\n",
    "i=0\n",
    "while i<len(L)/2:\n",
    "    j=len(L)-1-i #remember -1\n",
    "    temp=L[i]\n",
    "    L[i]=L[j]\n",
    "    L[j]=temp\n",
    "    i+=1\n",
    "    \n",
    "print(L)\n",
    "    \n",
    "    "
   ]
  },
  {
   "cell_type": "code",
   "execution_count": 61,
   "id": "6f669048",
   "metadata": {},
   "outputs": [
    {
     "name": "stdout",
     "output_type": "stream",
     "text": [
      "[15, 13, 11, 9, 7, 5, 3, 1]\n"
     ]
    }
   ],
   "source": [
    "#reverse list with most basic and for loop\n",
    "\n",
    "L=[1,3,5,7,9,11,13,15]\n",
    "if len(L)%2 != 0:\n",
    "    a=int(len(L)/2-0.5)\n",
    "else:\n",
    "    a=int(len(L)/2)\n",
    "for i in range(0,a):\n",
    "    j=len(L)-1-i\n",
    "    temp=L[i]\n",
    "    L[i]=L[j]\n",
    "    L[j]=temp\n",
    "    i+=1\n",
    "    \n",
    "print(L)"
   ]
  },
  {
   "cell_type": "code",
   "execution_count": 65,
   "id": "b4095cd0",
   "metadata": {},
   "outputs": [
    {
     "name": "stdout",
     "output_type": "stream",
     "text": [
      "[19, 17, 15, 13, 11, 9, 7, 5, 3, 1]\n"
     ]
    }
   ],
   "source": [
    "L=[1,3,5,7,9,11,13,15,17,19]\n",
    "for i in range(0,int(len(L)/2)):\n",
    "    j=len(L)-1-i\n",
    "    temp=L[i]\n",
    "    L[i]=L[j]\n",
    "    L[j]=temp\n",
    "    i+=1\n",
    "    \n",
    "print(L)"
   ]
  },
  {
   "cell_type": "code",
   "execution_count": 99,
   "id": "87cc8316",
   "metadata": {},
   "outputs": [
    {
     "name": "stdout",
     "output_type": "stream",
     "text": [
      "has22\n",
      "has33\n"
     ]
    }
   ],
   "source": [
    "#takes prints if has 22 a\n",
    "L=[1,3,4,5,6,7,2,2,3,3,3]\n",
    "a=0\n",
    "for i in range(0,len(L)-1):\n",
    "    if L[i]==2 and L[i+1]==2:\n",
    "        print(\"has22\")\n",
    "        a=1\n",
    "        break\n",
    "        \n",
    "for i in range(0,len(L)-1):\n",
    "    if L[i]==3 and L[i+1]==3:\n",
    "        print(\"has33\")\n",
    "        a=1\n",
    "        break\n",
    "if a==0:\n",
    "    print(\"no22or33\")"
   ]
  },
  {
   "cell_type": "code",
   "execution_count": 106,
   "id": "4eddbc80",
   "metadata": {},
   "outputs": [
    {
     "name": "stdout",
     "output_type": "stream",
     "text": [
      "no22\n"
     ]
    }
   ],
   "source": [
    "L=[1,3,4,5,6,7,2,3,3,3]\n",
    "i=0\n",
    "a=0\n",
    "while i < len(L)-1:\n",
    "    if L[i]==2 and L[i+1]==2:\n",
    "        print(\"has22\")\n",
    "        a=1\n",
    "        break\n",
    "    i+=1\n",
    "if a==0:\n",
    "    print(\"no22\")"
   ]
  },
  {
   "cell_type": "code",
   "execution_count": 118,
   "id": "ae0bcceb",
   "metadata": {},
   "outputs": [
    {
     "name": "stdout",
     "output_type": "stream",
     "text": [
      "[[2, 3], [4, 5], [6, 7], [8, 9, 10]]\n"
     ]
    }
   ],
   "source": [
    "L=[[1,2],[3,4],[5,6],[7,8,9]]\n",
    "for i in range(0,len(L)):\n",
    "    for j in range(0,len(L[i])):\n",
    "        L[i][j]+=1\n",
    "print(L)"
   ]
  },
  {
   "cell_type": "code",
   "execution_count": null,
   "id": "0be7594c",
   "metadata": {},
   "outputs": [],
   "source": [
    "import drawsvg as draw\n",
    "d = draw.Drawing(200,200, origin='center')"
   ]
  }
 ],
 "metadata": {
  "kernelspec": {
   "display_name": "Python 3 (ipykernel)",
   "language": "python",
   "name": "python3"
  },
  "language_info": {
   "codemirror_mode": {
    "name": "ipython",
    "version": 3
   },
   "file_extension": ".py",
   "mimetype": "text/x-python",
   "name": "python",
   "nbconvert_exporter": "python",
   "pygments_lexer": "ipython3",
   "version": "3.9.12"
  }
 },
 "nbformat": 4,
 "nbformat_minor": 5
}
