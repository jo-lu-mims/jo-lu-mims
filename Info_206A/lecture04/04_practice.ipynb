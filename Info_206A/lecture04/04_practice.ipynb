{
 "cells": [
  {
   "cell_type": "code",
   "execution_count": 1,
   "id": "a12d829e",
   "metadata": {},
   "outputs": [],
   "source": [
    "# a list of integers\n",
    "\n",
    "squares = [1,4,9,16,25,36]"
   ]
  },
  {
   "cell_type": "code",
   "execution_count": 2,
   "id": "0fe68f50",
   "metadata": {},
   "outputs": [
    {
     "data": {
      "text/plain": [
       "9"
      ]
     },
     "execution_count": 2,
     "metadata": {},
     "output_type": "execute_result"
    }
   ],
   "source": [
    "# element at the index position 2\n",
    "\n",
    "squares[2]"
   ]
  },
  {
   "cell_type": "code",
   "execution_count": 4,
   "id": "b4ac1671",
   "metadata": {},
   "outputs": [
    {
     "data": {
      "text/plain": [
       "36"
      ]
     },
     "execution_count": 4,
     "metadata": {},
     "output_type": "execute_result"
    }
   ],
   "source": [
    "# element at the last index position\n",
    "\n",
    "squares[-1]"
   ]
  },
  {
   "cell_type": "code",
   "execution_count": 5,
   "id": "374ba979",
   "metadata": {},
   "outputs": [
    {
     "data": {
      "text/plain": [
       "[4, 9]"
      ]
     },
     "execution_count": 5,
     "metadata": {},
     "output_type": "execute_result"
    }
   ],
   "source": [
    "# slice of list from index position 1 to 2\n",
    "\n",
    "squares[1:3]"
   ]
  },
  {
   "cell_type": "code",
   "execution_count": 7,
   "id": "2397cbf0",
   "metadata": {},
   "outputs": [
    {
     "data": {
      "text/plain": [
       "[9, 16, 25, 36]"
      ]
     },
     "execution_count": 7,
     "metadata": {},
     "output_type": "execute_result"
    }
   ],
   "source": [
    "# slice of list from index position 2 to end\n",
    "\n",
    "squares[2:]"
   ]
  },
  {
   "cell_type": "code",
   "execution_count": 8,
   "id": "e9a9f1af",
   "metadata": {},
   "outputs": [
    {
     "data": {
      "text/plain": [
       "[9, 16, 25]"
      ]
     },
     "execution_count": 8,
     "metadata": {},
     "output_type": "execute_result"
    }
   ],
   "source": [
    "# slice of list from index position 2 to next to last element\n",
    "\n",
    "squares[2:-1]"
   ]
  },
  {
   "cell_type": "code",
   "execution_count": 80,
   "id": "d09e2c4e",
   "metadata": {},
   "outputs": [
    {
     "data": {
      "text/plain": [
       "[49, 36, 25, 16, 9, 4, 1]"
      ]
     },
     "execution_count": 80,
     "metadata": {},
     "output_type": "execute_result"
    }
   ],
   "source": [
    "squares="
   ]
  },
  {
   "cell_type": "code",
   "execution_count": null,
   "id": "a472b889",
   "metadata": {},
   "outputs": [],
   "source": [
    "squares[:] # the whole list"
   ]
  },
  {
   "cell_type": "code",
   "execution_count": 9,
   "id": "e0a11afd",
   "metadata": {},
   "outputs": [
    {
     "name": "stdout",
     "output_type": "stream",
     "text": [
      "[1, 4, 9, 16, 25, 36, 49]\n"
     ]
    }
   ],
   "source": [
    "# append new element to list\n",
    "\n",
    "squares.append(49)\n",
    "print(squares)"
   ]
  },
  {
   "cell_type": "code",
   "execution_count": 13,
   "id": "d241b7fa",
   "metadata": {},
   "outputs": [
    {
     "data": {
      "text/plain": [
       "[49, 36, 25, 16, 9, 4, 1]"
      ]
     },
     "execution_count": 13,
     "metadata": {},
     "output_type": "execute_result"
    }
   ],
   "source": [
    "# sort list elements in descending order\n",
    "\n",
    "squares.sort(reverse=True)\n",
    "squares"
   ]
  },
  {
   "cell_type": "code",
   "execution_count": null,
   "id": "a40f91f0",
   "metadata": {},
   "outputs": [],
   "source": []
  },
  {
   "cell_type": "code",
   "execution_count": null,
   "id": "6f34f456",
   "metadata": {},
   "outputs": [],
   "source": []
  },
  {
   "cell_type": "code",
   "execution_count": 15,
   "id": "c060288a",
   "metadata": {},
   "outputs": [
    {
     "data": {
      "text/plain": [
       "[[0, 1, 2, 5, 3], [5, 0, 4, 3, 0], [1, 2, 5, 4, 0]]"
      ]
     },
     "execution_count": 15,
     "metadata": {},
     "output_type": "execute_result"
    }
   ],
   "source": [
    "# list of lists\n",
    "# can be used to represent a 2-dimensional array\n",
    "\n",
    "x = [[0,1,2,5,3],[5,0,4,3,0],[1,2,5,4,0]]s\n",
    "x"
   ]
  },
  {
   "cell_type": "code",
   "execution_count": 17,
   "id": "f9605f96",
   "metadata": {},
   "outputs": [
    {
     "data": {
      "text/plain": [
       "5"
      ]
     },
     "execution_count": 17,
     "metadata": {},
     "output_type": "execute_result"
    }
   ],
   "source": [
    "# 2nd row, 1st column\n",
    "x[1][0]\n"
   ]
  },
  {
   "cell_type": "code",
   "execution_count": 18,
   "id": "da914fca",
   "metadata": {},
   "outputs": [
    {
     "data": {
      "text/plain": [
       "[5, 0, 4, 3, 0]"
      ]
     },
     "execution_count": 18,
     "metadata": {},
     "output_type": "execute_result"
    }
   ],
   "source": [
    "# 2nd row\n",
    "x[1]"
   ]
  },
  {
   "cell_type": "code",
   "execution_count": 84,
   "id": "93806dc0",
   "metadata": {},
   "outputs": [
    {
     "name": "stdout",
     "output_type": "stream",
     "text": [
      "[[1, 2, 3, 6, 4], [6, 1, 5, 4, 1], [2, 3, 6, 5, 1]]\n"
     ]
    }
   ],
   "source": [
    "# 1st column not resolved\n",
    "L = [[0,1,2,5,3],[5,0,4,3,0],[1,2,5,4,0]]\n",
    "for i in range(0,len(L)):\n",
    "    for j in range(0,len(L[i])):\n",
    "        L[i][j]+=1\n",
    "print(L)"
   ]
  },
  {
   "cell_type": "code",
   "execution_count": 85,
   "id": "3487d8ad",
   "metadata": {},
   "outputs": [
    {
     "name": "stdout",
     "output_type": "stream",
     "text": [
      "[[0, 1, 2, 5, 3], [5, 0, 4, 3, 0], [1, 2, 5, 4, 3]]\n"
     ]
    }
   ],
   "source": [
    "# 1st column not resolved\n",
    "L = [[0,1,2,5,3],[5,0,4,3,0],[1,2,5,4,0]]\n",
    "for row in L:\n",
    "    row[1]+=1\n",
    "print(L)"
   ]
  },
  {
   "cell_type": "code",
   "execution_count": null,
   "id": "9a1d1237",
   "metadata": {},
   "outputs": [],
   "source": [
    "# note that there is no easy way to access a \"column\" in a list of lists"
   ]
  },
  {
   "cell_type": "code",
   "execution_count": null,
   "id": "9be15c43",
   "metadata": {},
   "outputs": [],
   "source": []
  },
  {
   "cell_type": "code",
   "execution_count": 19,
   "id": "cdd5d944",
   "metadata": {},
   "outputs": [],
   "source": [
    "# import numpy (numerical python) package \n",
    "\n",
    "import numpy as np"
   ]
  },
  {
   "cell_type": "code",
   "execution_count": 45,
   "id": "09f6e183",
   "metadata": {},
   "outputs": [
    {
     "data": {
      "text/plain": [
       "array([[0, 1, 2, 5, 3],\n",
       "       [5, 0, 4, 3, 0],\n",
       "       [1, 2, 5, 4, 0]])"
      ]
     },
     "execution_count": 45,
     "metadata": {},
     "output_type": "execute_result"
    }
   ],
   "source": [
    "x = np.array([[0,1,2,5,3],[5,0,4,3,0],[1,2,5,4,0]])\n",
    "x"
   ]
  },
  {
   "cell_type": "code",
   "execution_count": 22,
   "id": "377c1ad0",
   "metadata": {},
   "outputs": [
    {
     "data": {
      "text/plain": [
       "5"
      ]
     },
     "execution_count": 22,
     "metadata": {},
     "output_type": "execute_result"
    }
   ],
   "source": [
    "# access element in row 1, column 0\n",
    "\n",
    "x[1][0]"
   ]
  },
  {
   "cell_type": "code",
   "execution_count": 27,
   "id": "9d201be5",
   "metadata": {},
   "outputs": [
    {
     "data": {
      "text/plain": [
       "(array([0, 1, 2, 5, 3]), array([0, 1, 2, 5, 3]))"
      ]
     },
     "execution_count": 27,
     "metadata": {},
     "output_type": "execute_result"
    }
   ],
   "source": [
    "# access first row of array\n",
    "\n",
    "x[0], x[0,:]"
   ]
  },
  {
   "cell_type": "code",
   "execution_count": 46,
   "id": "89359818",
   "metadata": {},
   "outputs": [
    {
     "data": {
      "text/plain": [
       "array([1, 0, 2])"
      ]
     },
     "execution_count": 46,
     "metadata": {},
     "output_type": "execute_result"
    }
   ],
   "source": [
    "# access first column of array (dont understand)\n",
    "\n",
    "x[:,1]"
   ]
  },
  {
   "cell_type": "code",
   "execution_count": 32,
   "id": "aad47669",
   "metadata": {},
   "outputs": [
    {
     "data": {
      "text/plain": [
       "[[0, 1, 2, 5, 3], [5, 0, 4, 3, 0], [1, 2, 5, 4, 0]]"
      ]
     },
     "execution_count": 32,
     "metadata": {},
     "output_type": "execute_result"
    }
   ],
   "source": [
    "# convert array to list\n",
    "x.tolist()"
   ]
  },
  {
   "cell_type": "code",
   "execution_count": 57,
   "id": "f0ea2d7e",
   "metadata": {},
   "outputs": [
    {
     "data": {
      "text/plain": [
       "array([[2, 3],\n",
       "       [4, 4]])"
      ]
     },
     "execution_count": 57,
     "metadata": {},
     "output_type": "execute_result"
    }
   ],
   "source": [
    "# access rows 0 and 1, columns 3 and 4\n",
    "\n",
    "x[0],x[1],x[:,3],x[:,4]\n",
    "x[0:2,3:5] # dont understand"
   ]
  },
  {
   "cell_type": "code",
   "execution_count": null,
   "id": "ed2b166a",
   "metadata": {},
   "outputs": [],
   "source": []
  },
  {
   "cell_type": "code",
   "execution_count": null,
   "id": "f2825536",
   "metadata": {},
   "outputs": [],
   "source": []
  },
  {
   "cell_type": "code",
   "execution_count": null,
   "id": "5d02ae6d",
   "metadata": {},
   "outputs": [],
   "source": []
  },
  {
   "cell_type": "code",
   "execution_count": 60,
   "id": "0e90e63e",
   "metadata": {},
   "outputs": [
    {
     "data": {
      "text/plain": [
       "array([[0, 1, 2, 3, 5],\n",
       "       [0, 0, 3, 4, 5],\n",
       "       [0, 1, 2, 4, 5]])"
      ]
     },
     "execution_count": 60,
     "metadata": {},
     "output_type": "execute_result"
    }
   ],
   "source": [
    "# sorting data in an array\n",
    "\n",
    "# example: let's say you want to sort array according to last row\n",
    "\n",
    "x.sort(axis=1) # axis = 0 for down, axis=1 for right\n",
    "x"
   ]
  },
  {
   "cell_type": "code",
   "execution_count": null,
   "id": "03a96bce",
   "metadata": {},
   "outputs": [],
   "source": [
    "# note that the above does not work as intended: each row is independently sorted"
   ]
  },
  {
   "cell_type": "code",
   "execution_count": 71,
   "id": "2fb1cd1d",
   "metadata": {},
   "outputs": [
    {
     "data": {
      "text/plain": [
       "array([[0, 1, 2, 5, 3],\n",
       "       [5, 0, 4, 3, 0],\n",
       "       [1, 2, 5, 4, 0]])"
      ]
     },
     "execution_count": 71,
     "metadata": {},
     "output_type": "execute_result"
    }
   ],
   "source": [
    "x = np.array([[0,1,2,5,3],[5,0,4,3,0],[1,2,5,4,0]])\n",
    "x"
   ]
  },
  {
   "cell_type": "code",
   "execution_count": 50,
   "id": "dd9ed85f",
   "metadata": {},
   "outputs": [
    {
     "data": {
      "text/plain": [
       "array([[0, 1, 2, 4, 3],\n",
       "       [1, 4, 3, 2, 0],\n",
       "       [4, 0, 1, 3, 2]])"
      ]
     },
     "execution_count": 50,
     "metadata": {},
     "output_type": "execute_result"
    }
   ],
   "source": [
    "# use argsort to determine index (position) of array elements according to sorted order\n",
    "\n",
    "index = np.argsort(x,axis=1)\n",
    "index"
   ]
  },
  {
   "cell_type": "code",
   "execution_count": 53,
   "id": "87c8f253",
   "metadata": {},
   "outputs": [
    {
     "data": {
      "text/plain": [
       "array([1, 4, 3, 2, 0])"
      ]
     },
     "execution_count": 53,
     "metadata": {},
     "output_type": "execute_result"
    }
   ],
   "source": [
    "index[2]"
   ]
  },
  {
   "cell_type": "code",
   "execution_count": 74,
   "id": "7b00dfe0",
   "metadata": {},
   "outputs": [
    {
     "data": {
      "text/plain": [
       "array([[3, 0, 1, 5, 2],\n",
       "       [0, 5, 0, 3, 4],\n",
       "       [0, 1, 2, 4, 5]])"
      ]
     },
     "execution_count": 74,
     "metadata": {},
     "output_type": "execute_result"
    }
   ],
   "source": [
    "# sort array according to row 2, in ascending order\n",
    "xs1 = x[:,index[2]]\n",
    "xs1"
   ]
  },
  {
   "cell_type": "code",
   "execution_count": 73,
   "id": "5bf009dc",
   "metadata": {},
   "outputs": [
    {
     "data": {
      "text/plain": [
       "array([[0, 2, 5, 3, 1],\n",
       "       [5, 4, 3, 0, 0],\n",
       "       [1, 5, 4, 0, 2]])"
      ]
     },
     "execution_count": 73,
     "metadata": {},
     "output_type": "execute_result"
    }
   ],
   "source": [
    "# sort array according to row 1, in descending order\n",
    "\n",
    "xs2 = x[:,index[1][::-1]]\n",
    "xs2"
   ]
  },
  {
   "cell_type": "code",
   "execution_count": null,
   "id": "ad51ce2f",
   "metadata": {},
   "outputs": [],
   "source": [
    "# also check out numpy.lexsort, which supports sorting in multiple rows or columns"
   ]
  }
 ],
 "metadata": {
  "kernelspec": {
   "display_name": "Python 3 (ipykernel)",
   "language": "python",
   "name": "python3"
  },
  "language_info": {
   "codemirror_mode": {
    "name": "ipython",
    "version": 3
   },
   "file_extension": ".py",
   "mimetype": "text/x-python",
   "name": "python",
   "nbconvert_exporter": "python",
   "pygments_lexer": "ipython3",
   "version": "3.9.12"
  }
 },
 "nbformat": 4,
 "nbformat_minor": 5
}
