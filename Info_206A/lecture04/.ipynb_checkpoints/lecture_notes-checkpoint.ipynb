{
 "cells": [
  {
   "cell_type": "code",
   "execution_count": 7,
   "id": "f3297f24",
   "metadata": {},
   "outputs": [
    {
     "name": "stdout",
     "output_type": "stream",
     "text": [
      "Jupitor's first moon is Europa.\n",
      "['Europa', 'Ganymede', 'Callisto']\n"
     ]
    }
   ],
   "source": [
    "moons = [\"Europa\",\"Ganymede\", \"Callisto\"]\n",
    "print(\"Jupitor's first moon is \" + moons[0]+\".\")\n",
    "print(list(moons))"
   ]
  },
  {
   "cell_type": "code",
   "execution_count": 6,
   "id": "e1987cb2",
   "metadata": {},
   "outputs": [
    {
     "name": "stdout",
     "output_type": "stream",
     "text": [
      "[]\n"
     ]
    }
   ],
   "source": [
    "nothing=[]\n",
    "print(list(nothing))"
   ]
  },
  {
   "cell_type": "raw",
   "id": "a59de0c7",
   "metadata": {},
   "source": []
  },
  {
   "cell_type": "code",
   "execution_count": 10,
   "id": "02a7e84b",
   "metadata": {},
   "outputs": [
    {
     "name": "stdout",
     "output_type": "stream",
     "text": [
      "['horton', '2', 'mayzie']\n",
      "3\n"
     ]
    }
   ],
   "source": [
    "characters=[\"horton\", \"lorax\", \"mayzie\"]\n",
    "characters[1]=\"2\"\n",
    "print(characters)\n",
    "x = len(characters)\n",
    "print(x)"
   ]
  },
  {
   "cell_type": "code",
   "execution_count": 13,
   "id": "9e085c21",
   "metadata": {},
   "outputs": [
    {
     "name": "stdout",
     "output_type": "stream",
     "text": [
      "0\n",
      "1\n",
      "2\n",
      "3\n",
      "4\n",
      "5\n",
      "6\n",
      "7\n",
      "8\n",
      "9\n"
     ]
    }
   ],
   "source": [
    "for i in range(10):\n",
    " \n",
    "  print(i)"
   ]
  },
  {
   "cell_type": "code",
   "execution_count": 20,
   "id": "4473a2e5",
   "metadata": {},
   "outputs": [
    {
     "ename": "SyntaxError",
     "evalue": "invalid syntax (2358567650.py, line 2)",
     "output_type": "error",
     "traceback": [
      "\u001b[0;36m  Input \u001b[0;32mIn [20]\u001b[0;36m\u001b[0m\n\u001b[0;31m    while:\u001b[0m\n\u001b[0m         ^\u001b[0m\n\u001b[0;31mSyntaxError\u001b[0m\u001b[0;31m:\u001b[0m invalid syntax\n"
     ]
    }
   ],
   "source": [
    "i = 0\n",
    "while:\n",
    "    if i < 3:\n",
    "        print(i)\n",
    "        i += 1\n",
    "    else:\n",
    "        print(\"i>=3!\")\n",
    "        break"
   ]
  },
  {
   "cell_type": "code",
   "execution_count": 23,
   "id": "bafe4608",
   "metadata": {},
   "outputs": [
    {
     "ename": "SyntaxError",
     "evalue": "invalid syntax (3360680878.py, line 5)",
     "output_type": "error",
     "traceback": [
      "\u001b[0;36m  Input \u001b[0;32mIn [23]\u001b[0;36m\u001b[0m\n\u001b[0;31m    else:\u001b[0m\n\u001b[0m    ^\u001b[0m\n\u001b[0;31mSyntaxError\u001b[0m\u001b[0;31m:\u001b[0m invalid syntax\n"
     ]
    }
   ],
   "source": [
    "i = 0\n",
    "while i < 3:\n",
    "    print(i)\n",
    "    i += 1\n",
    "    else:\n",
    "        print(\"i>=3!\")\n",
    "        break"
   ]
  },
  {
   "cell_type": "code",
   "execution_count": 19,
   "id": "e6688d7c",
   "metadata": {},
   "outputs": [
    {
     "ename": "SyntaxError",
     "evalue": "invalid character '：' (U+FF1A) (1112199143.py, line 11)",
     "output_type": "error",
     "traceback": [
      "\u001b[0;36m  Input \u001b[0;32mIn [19]\u001b[0;36m\u001b[0m\n\u001b[0;31m    else：\u001b[0m\n\u001b[0m        ^\u001b[0m\n\u001b[0;31mSyntaxError\u001b[0m\u001b[0;31m:\u001b[0m invalid character '：' (U+FF1A)\n"
     ]
    }
   ],
   "source": [
    "i = 0\n",
    " \n",
    "while True:\n",
    " \n",
    "  if i<3:\n",
    " \n",
    "    print(i)\n",
    " \n",
    "    i += 1\n",
    " \n",
    "  else：\n",
    " \n",
    "    print(\"i>=3啦!\")\n",
    " \n",
    "    break"
   ]
  },
  {
   "cell_type": "code",
   "execution_count": 33,
   "id": "3462ee25",
   "metadata": {},
   "outputs": [
    {
     "name": "stdout",
     "output_type": "stream",
     "text": [
      "1 is odd\n",
      "7 is odd\n",
      "4 is even\n",
      "10 is even\n",
      "8 is even\n"
     ]
    }
   ],
   "source": [
    "# for loop\n",
    "num = [1,7,4,10,8]\n",
    "for i in num:\n",
    "    if i%2==0:\n",
    "        print(str(i)+\" is even\")\n",
    "    elif i%2==1:\n",
    "        print(str(i)+\" is odd\")\n"
   ]
  },
  {
   "cell_type": "code",
   "execution_count": 35,
   "id": "662d3cd3",
   "metadata": {},
   "outputs": [
    {
     "name": "stdout",
     "output_type": "stream",
     "text": [
      "1 is odd\n",
      "7 is odd\n",
      "4 is even\n",
      "10 is even\n",
      "8 is even\n"
     ]
    }
   ],
   "source": [
    "# for loop + range\n",
    "num = [1,7,4,10,8]\n",
    "for i in range(0,len(num)):\n",
    "    if num[i]%2==0:\n",
    "        print(str(num[i])+\" is even\")\n",
    "    else:\n",
    "        print(str(num[i])+\" is odd\")\n"
   ]
  },
  {
   "cell_type": "code",
   "execution_count": 36,
   "id": "e4069d1a",
   "metadata": {},
   "outputs": [
    {
     "name": "stdout",
     "output_type": "stream",
     "text": [
      "1 is odd\n",
      "7 is odd\n",
      "4 is even\n",
      "10 is even\n",
      "8 is even\n"
     ]
    }
   ],
   "source": [
    "# while loop\n",
    "num = [1,7,4,10,8]\n",
    "i=0\n",
    "while i<len(num):\n",
    "    if num[i]%2==0:\n",
    "        print(str(num[i])+\" is even\")\n",
    "        i+=1\n",
    "    else:\n",
    "        print(str(num[i])+\" is odd\")\n",
    "        i+=1"
   ]
  }
 ],
 "metadata": {
  "kernelspec": {
   "display_name": "Python 3 (ipykernel)",
   "language": "python",
   "name": "python3"
  },
  "language_info": {
   "codemirror_mode": {
    "name": "ipython",
    "version": 3
   },
   "file_extension": ".py",
   "mimetype": "text/x-python",
   "name": "python",
   "nbconvert_exporter": "python",
   "pygments_lexer": "ipython3",
   "version": "3.9.12"
  }
 },
 "nbformat": 4,
 "nbformat_minor": 5
}
