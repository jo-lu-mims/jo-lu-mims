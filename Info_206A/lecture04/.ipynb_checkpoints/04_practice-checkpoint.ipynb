{
 "cells": [
  {
   "cell_type": "code",
   "execution_count": 1,
   "id": "a12d829e",
   "metadata": {},
   "outputs": [],
   "source": [
    "# a list of integers\n",
    "\n",
    "squares = [1,4,9,16,25,36]"
   ]
  },
  {
   "cell_type": "code",
   "execution_count": null,
   "id": "0fe68f50",
   "metadata": {},
   "outputs": [],
   "source": [
    "# element at the index position 2\n",
    "\n"
   ]
  },
  {
   "cell_type": "code",
   "execution_count": null,
   "id": "b4ac1671",
   "metadata": {},
   "outputs": [],
   "source": [
    "# element at the last index position\n",
    "\n"
   ]
  },
  {
   "cell_type": "code",
   "execution_count": null,
   "id": "374ba979",
   "metadata": {},
   "outputs": [],
   "source": [
    "# slice of list from index position 1 to 2\n",
    "\n"
   ]
  },
  {
   "cell_type": "code",
   "execution_count": null,
   "id": "2397cbf0",
   "metadata": {},
   "outputs": [],
   "source": [
    "# slice of list from index position 2 to end\n",
    "\n"
   ]
  },
  {
   "cell_type": "code",
   "execution_count": null,
   "id": "e9a9f1af",
   "metadata": {},
   "outputs": [],
   "source": [
    "# slice of list from index position 2 to next to last element\n",
    "\n"
   ]
  },
  {
   "cell_type": "code",
   "execution_count": null,
   "id": "a472b889",
   "metadata": {},
   "outputs": [],
   "source": [
    "squares[:] # the whole list"
   ]
  },
  {
   "cell_type": "code",
   "execution_count": null,
   "id": "e0a11afd",
   "metadata": {},
   "outputs": [],
   "source": [
    "# append new element to list\n",
    "\n"
   ]
  },
  {
   "cell_type": "code",
   "execution_count": null,
   "id": "d241b7fa",
   "metadata": {},
   "outputs": [],
   "source": [
    "# sort list elements in descending order\n",
    "\n"
   ]
  },
  {
   "cell_type": "code",
   "execution_count": null,
   "id": "a40f91f0",
   "metadata": {},
   "outputs": [],
   "source": []
  },
  {
   "cell_type": "code",
   "execution_count": null,
   "id": "6f34f456",
   "metadata": {},
   "outputs": [],
   "source": []
  },
  {
   "cell_type": "code",
   "execution_count": null,
   "id": "c060288a",
   "metadata": {},
   "outputs": [],
   "source": [
    "# list of lists\n",
    "# can be used to represent a 2-dimensional array\n",
    "\n",
    "x = [[0,1,2,5,3],[5,0,4,3,0],[1,2,5,4,0]]\n",
    "x"
   ]
  },
  {
   "cell_type": "code",
   "execution_count": null,
   "id": "f9605f96",
   "metadata": {},
   "outputs": [],
   "source": [
    "# 2nd row, 1st column\n",
    "\n"
   ]
  },
  {
   "cell_type": "code",
   "execution_count": null,
   "id": "da914fca",
   "metadata": {},
   "outputs": [],
   "source": [
    "# 2nd row\n"
   ]
  },
  {
   "cell_type": "code",
   "execution_count": null,
   "id": "93806dc0",
   "metadata": {},
   "outputs": [],
   "source": [
    "# 1st column\n"
   ]
  },
  {
   "cell_type": "code",
   "execution_count": null,
   "id": "9a1d1237",
   "metadata": {},
   "outputs": [],
   "source": [
    "# note that there is no easy way to access a \"column\" in a list of lists"
   ]
  },
  {
   "cell_type": "code",
   "execution_count": null,
   "id": "9be15c43",
   "metadata": {},
   "outputs": [],
   "source": []
  },
  {
   "cell_type": "code",
   "execution_count": null,
   "id": "cdd5d944",
   "metadata": {},
   "outputs": [],
   "source": [
    "# import numpy (numerical python) package \n",
    "\n",
    "import numpy as np"
   ]
  },
  {
   "cell_type": "code",
   "execution_count": null,
   "id": "09f6e183",
   "metadata": {},
   "outputs": [],
   "source": [
    "x = np.array([[0,1,2,5,3],[5,0,4,3,0],[1,2,5,4,0]])\n",
    "x"
   ]
  },
  {
   "cell_type": "code",
   "execution_count": null,
   "id": "377c1ad0",
   "metadata": {},
   "outputs": [],
   "source": [
    "# access element in row 1, column 0\n",
    "\n"
   ]
  },
  {
   "cell_type": "code",
   "execution_count": null,
   "id": "9d201be5",
   "metadata": {},
   "outputs": [],
   "source": [
    "# access first row of array\n",
    "\n"
   ]
  },
  {
   "cell_type": "code",
   "execution_count": null,
   "id": "89359818",
   "metadata": {},
   "outputs": [],
   "source": [
    "# access first column of array\n",
    "\n"
   ]
  },
  {
   "cell_type": "code",
   "execution_count": null,
   "id": "f0ea2d7e",
   "metadata": {},
   "outputs": [],
   "source": [
    "# access rows 0 and 1, columns 3 and 4\n",
    "\n"
   ]
  },
  {
   "cell_type": "code",
   "execution_count": null,
   "id": "ed2b166a",
   "metadata": {},
   "outputs": [],
   "source": []
  },
  {
   "cell_type": "code",
   "execution_count": null,
   "id": "f2825536",
   "metadata": {},
   "outputs": [],
   "source": []
  },
  {
   "cell_type": "code",
   "execution_count": null,
   "id": "5d02ae6d",
   "metadata": {},
   "outputs": [],
   "source": []
  },
  {
   "cell_type": "code",
   "execution_count": null,
   "id": "0e90e63e",
   "metadata": {},
   "outputs": [],
   "source": [
    "# sorting data in an array\n",
    "\n",
    "# example: let's say you want to sort array according to last row\n",
    "\n",
    "x.sort(axis=1) # axis = 0 for down, axis=1 for right\n",
    "x"
   ]
  },
  {
   "cell_type": "code",
   "execution_count": null,
   "id": "03a96bce",
   "metadata": {},
   "outputs": [],
   "source": [
    "# note that the above does not work as intended: each row is independently sorted"
   ]
  },
  {
   "cell_type": "code",
   "execution_count": null,
   "id": "2fb1cd1d",
   "metadata": {},
   "outputs": [],
   "source": [
    "x = np.array([[0,1,2,5,3],[5,0,4,3,0],[1,2,5,4,0]])\n",
    "x"
   ]
  },
  {
   "cell_type": "code",
   "execution_count": null,
   "id": "dd9ed85f",
   "metadata": {},
   "outputs": [],
   "source": [
    "# use argsort to determine index (position) of array elements according to sorted order\n",
    "\n",
    "index = np.argsort(x,axis=1)\n",
    "index"
   ]
  },
  {
   "cell_type": "code",
   "execution_count": null,
   "id": "87c8f253",
   "metadata": {},
   "outputs": [],
   "source": [
    "index[2]"
   ]
  },
  {
   "cell_type": "code",
   "execution_count": null,
   "id": "7b00dfe0",
   "metadata": {},
   "outputs": [],
   "source": [
    "# sort array according to row 2, in ascending order\n",
    "xs1 = x[:,index[2]]\n",
    "xs1"
   ]
  },
  {
   "cell_type": "code",
   "execution_count": null,
   "id": "5bf009dc",
   "metadata": {},
   "outputs": [],
   "source": [
    "# sort array according to row 1, in descending order\n",
    "\n",
    "xs2 = x[:,index[1][::-1]]\n",
    "xs2"
   ]
  },
  {
   "cell_type": "code",
   "execution_count": null,
   "id": "ad51ce2f",
   "metadata": {},
   "outputs": [],
   "source": [
    "# also check out numpy.lexsort, which supports sorting in multiple rows or columns"
   ]
  }
 ],
 "metadata": {
  "kernelspec": {
   "display_name": "Python 3 (ipykernel)",
   "language": "python",
   "name": "python3"
  },
  "language_info": {
   "codemirror_mode": {
    "name": "ipython",
    "version": 3
   },
   "file_extension": ".py",
   "mimetype": "text/x-python",
   "name": "python",
   "nbconvert_exporter": "python",
   "pygments_lexer": "ipython3",
   "version": "3.9.12"
  }
 },
 "nbformat": 4,
 "nbformat_minor": 5
}
