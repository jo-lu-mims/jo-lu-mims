{
 "cells": [
  {
   "cell_type": "code",
   "execution_count": 1,
   "id": "ed3d7027",
   "metadata": {},
   "outputs": [
    {
     "data": {
      "text/html": [
       "<img src=\"https://imgs.xkcd.com/comics/fixing_problems.png\" width=\"500\"/>"
      ],
      "text/plain": [
       "<IPython.core.display.Image object>"
      ]
     },
     "execution_count": 1,
     "metadata": {},
     "output_type": "execute_result"
    }
   ],
   "source": [
    "from IPython.display import Image\n",
    "Image(url=\"https://imgs.xkcd.com/comics/fixing_problems.png\", width=500)"
   ]
  },
  {
   "cell_type": "code",
   "execution_count": 2,
   "id": "49a7181f",
   "metadata": {},
   "outputs": [],
   "source": [
    "# Write a recursive function, find_max, that returns the maximum element in a list of numbers\n",
    "\n",
    "def find_max(input_list):\n",
    "    \n",
    "    # base case\n",
    "    if len(input_list) == 1:\n",
    "        return input_list[0]\n",
    "    \n",
    "    # recursive case\n",
    "    \n",
    "    else:\n",
    "        return max(input_list[0], find_max(input_list[1:]))\n",
    "    "
   ]
  },
  {
   "cell_type": "code",
   "execution_count": 3,
   "id": "8fb876e4",
   "metadata": {},
   "outputs": [
    {
     "name": "stdout",
     "output_type": "stream",
     "text": [
      "42\n"
     ]
    }
   ],
   "source": [
    "print(find_max([7.0,-1000,0,42,9.7]))"
   ]
  },
  {
   "cell_type": "code",
   "execution_count": 4,
   "id": "99d39f6a",
   "metadata": {},
   "outputs": [],
   "source": [
    "# Write a recursive function, fib, that takes as input a single number 'n' and returns \n",
    "# the n^th number in the Fibonacci sequence:\n",
    "\n",
    "# the 0th Fibonacci number is 0 [fib(0) --> 0]\n",
    "# the 1st Fibonacci number is 1 [fib(1) --> 1]\n",
    "# the nth Fibonacci number is fib(n-1)+fib(n-2)\n",
    "\n",
    "# Then call the function and print the first ten numbers of the sequence:\n",
    "\n",
    "# [0,1,1,2,3,5,8,13,21,34]\n",
    "\n",
    "\n",
    "def fib(n):\n",
    "    if n == 0:\n",
    "        return 0\n",
    "    if n == 1:\n",
    "        return 1\n",
    "    else:\n",
    "        return fib(n-1)+fib(n-2)\n"
   ]
  },
  {
   "cell_type": "code",
   "execution_count": 5,
   "id": "f0bbffc1",
   "metadata": {},
   "outputs": [
    {
     "name": "stdout",
     "output_type": "stream",
     "text": [
      "0\n",
      "1\n",
      "1\n",
      "2\n",
      "3\n",
      "5\n",
      "8\n",
      "13\n",
      "21\n",
      "34\n"
     ]
    }
   ],
   "source": [
    "for i in range(10):\n",
    "    print(fib(i))"
   ]
  },
  {
   "cell_type": "code",
   "execution_count": 6,
   "id": "015dba22",
   "metadata": {},
   "outputs": [],
   "source": [
    "# Write a recursive function, count_evens, that takes as input a list of numbers \n",
    "# and returns the number of even numbers found in the list\n",
    "    \n",
    "def count_evens(L):\n",
    "    if len(L) == 0:\n",
    "        return 0\n",
    "    else:\n",
    "        if L[0] % 2 == 0:\n",
    "            return 1 + count_evens(L[1:])\n",
    "        else:\n",
    "            return count_evens(L[1:])\n"
   ]
  },
  {
   "cell_type": "code",
   "execution_count": 7,
   "id": "5e2ec815",
   "metadata": {},
   "outputs": [
    {
     "name": "stdout",
     "output_type": "stream",
     "text": [
      "4\n"
     ]
    }
   ],
   "source": [
    "print(count_evens([1,4,9,16,25,36,49,64]))"
   ]
  },
  {
   "cell_type": "code",
   "execution_count": null,
   "id": "8729950f",
   "metadata": {},
   "outputs": [],
   "source": []
  }
 ],
 "metadata": {
  "kernelspec": {
   "display_name": "Python 3 (ipykernel)",
   "language": "python",
   "name": "python3"
  },
  "language_info": {
   "codemirror_mode": {
    "name": "ipython",
    "version": 3
   },
   "file_extension": ".py",
   "mimetype": "text/x-python",
   "name": "python",
   "nbconvert_exporter": "python",
   "pygments_lexer": "ipython3",
   "version": "3.9.12"
  }
 },
 "nbformat": 4,
 "nbformat_minor": 5
}
