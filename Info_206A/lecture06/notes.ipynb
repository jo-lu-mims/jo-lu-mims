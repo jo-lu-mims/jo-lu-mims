{
 "cells": [
  {
   "cell_type": "code",
   "execution_count": null,
   "id": "df721e81",
   "metadata": {},
   "outputs": [],
   "source": [
    "def getfractorial(n):\n",
    "    if n==0 or n==1, return 1\n",
    "    else return"
   ]
  },
  {
   "cell_type": "code",
   "execution_count": 3,
   "id": "feb779a8",
   "metadata": {},
   "outputs": [
    {
     "name": "stdout",
     "output_type": "stream",
     "text": [
      "1\n",
      "2\n",
      "3\n"
     ]
    }
   ],
   "source": [
    "i = 1\n",
    "while i < 6:\n",
    "  print(i)\n",
    "  if i == 3:\n",
    "    break\n",
    "  i += 1"
   ]
  },
  {
   "cell_type": "code",
   "execution_count": 4,
   "id": "32c16f20",
   "metadata": {},
   "outputs": [
    {
     "name": "stdout",
     "output_type": "stream",
     "text": [
      "1\n",
      "2\n",
      "4\n",
      "5\n",
      "6\n"
     ]
    }
   ],
   "source": [
    "i = 0\n",
    "while i < 6:\n",
    "  i += 1\n",
    "  if i == 3:\n",
    "    continue\n",
    "  print(i)"
   ]
  },
  {
   "cell_type": "code",
   "execution_count": 12,
   "id": "fbee935a",
   "metadata": {},
   "outputs": [
    {
     "ename": "TypeError",
     "evalue": "'int' object is not iterable",
     "output_type": "error",
     "traceback": [
      "\u001b[0;31m---------------------------------------------------------------------------\u001b[0m",
      "\u001b[0;31mTypeError\u001b[0m                                 Traceback (most recent call last)",
      "Input \u001b[0;32mIn [12]\u001b[0m, in \u001b[0;36m<cell line: 8>\u001b[0;34m()\u001b[0m\n\u001b[1;32m      5\u001b[0m     \u001b[38;5;28;01mreturn\u001b[39;00m \u001b[38;5;28msum\u001b[39m\n\u001b[1;32m      7\u001b[0m a\u001b[38;5;241m=\u001b[39m[\u001b[38;5;241m1\u001b[39m,\u001b[38;5;241m2\u001b[39m,\u001b[38;5;241m3\u001b[39m,\u001b[38;5;241m4\u001b[39m]\n\u001b[0;32m----> 8\u001b[0m \u001b[43mmysum\u001b[49m\u001b[43m(\u001b[49m\u001b[43ma\u001b[49m\u001b[43m)\u001b[49m\n",
      "Input \u001b[0;32mIn [12]\u001b[0m, in \u001b[0;36mmysum\u001b[0;34m(L)\u001b[0m\n\u001b[1;32m      1\u001b[0m \u001b[38;5;28;01mdef\u001b[39;00m \u001b[38;5;21mmysum\u001b[39m(L):\n\u001b[1;32m      2\u001b[0m     \u001b[38;5;28msum\u001b[39m \u001b[38;5;241m=\u001b[39m \u001b[38;5;241m0\u001b[39m\n\u001b[0;32m----> 3\u001b[0m     \u001b[38;5;28;01mfor\u001b[39;00m i \u001b[38;5;129;01min\u001b[39;00m \u001b[38;5;28mlen\u001b[39m(L):\n\u001b[1;32m      4\u001b[0m         \u001b[38;5;28msum\u001b[39m \u001b[38;5;241m+\u001b[39m\u001b[38;5;241m=\u001b[39m L[i]\n\u001b[1;32m      5\u001b[0m     \u001b[38;5;28;01mreturn\u001b[39;00m \u001b[38;5;28msum\u001b[39m\n",
      "\u001b[0;31mTypeError\u001b[0m: 'int' object is not iterable"
     ]
    }
   ],
   "source": [
    "#question\n",
    "def mysum(L): \n",
    "    sum = 0\n",
    "    for i in len(L):\n",
    "        sum += L[i]\n",
    "    return sum\n",
    "\n",
    "a=[1,2,3,4]\n",
    "mysum(a)"
   ]
  },
  {
   "cell_type": "code",
   "execution_count": 10,
   "id": "4a158f23",
   "metadata": {},
   "outputs": [
    {
     "data": {
      "text/plain": [
       "12"
      ]
     },
     "execution_count": 10,
     "metadata": {},
     "output_type": "execute_result"
    }
   ],
   "source": [
    "def mysum(L):\n",
    "    if L == []:\n",
    "        return 0\n",
    "    else:\n",
    "        return L[0] + mysum(L[1:])\n",
    "\n",
    "mysum([2,4,1,5])"
   ]
  },
  {
   "cell_type": "code",
   "execution_count": 33,
   "id": "5053bc35",
   "metadata": {},
   "outputs": [
    {
     "name": "stdout",
     "output_type": "stream",
     "text": [
      "[2, 4]\n"
     ]
    }
   ],
   "source": [
    "L=[2,4,1,5]\n",
    "print(L[-4:2])"
   ]
  },
  {
   "cell_type": "code",
   "execution_count": 107,
   "id": "daac9f8c",
   "metadata": {},
   "outputs": [
    {
     "data": {
      "text/plain": [
       "15"
      ]
     },
     "execution_count": 107,
     "metadata": {},
     "output_type": "execute_result"
    }
   ],
   "source": [
    "#takes \"n\" and return the sum of first \"n\". ie: sum(5)=1+2+3+4+5\n",
    "def sum(n):\n",
    "    a = 0\n",
    "    if n == 0:\n",
    "        return a\n",
    "    else:\n",
    "        a = n + sum(n-1)\n",
    "        return a\n",
    "  \n",
    "sum(5)"
   ]
  },
  {
   "cell_type": "code",
   "execution_count": 104,
   "id": "3fae8254",
   "metadata": {},
   "outputs": [
    {
     "data": {
      "text/plain": [
       "15"
      ]
     },
     "execution_count": 104,
     "metadata": {},
     "output_type": "execute_result"
    }
   ],
   "source": [
    "def sum(n):\n",
    "    if n == 0:\n",
    "        return 0\n",
    "    \n",
    "    else:\n",
    "        return n + sum(n-1)\n",
    "    \n",
    "sum(5)"
   ]
  },
  {
   "cell_type": "code",
   "execution_count": 98,
   "id": "e674326b",
   "metadata": {},
   "outputs": [
    {
     "data": {
      "text/plain": [
       "15"
      ]
     },
     "execution_count": 98,
     "metadata": {},
     "output_type": "execute_result"
    }
   ],
   "source": [
    "def sum(n):\n",
    "    sum = 0\n",
    "    for i in range(0,n+1):\n",
    "        sum += i\n",
    "    return sum\n",
    "  \n",
    "sum(5)"
   ]
  },
  {
   "cell_type": "code",
   "execution_count": 83,
   "id": "f89e448b",
   "metadata": {},
   "outputs": [
    {
     "data": {
      "text/plain": [
       "8"
      ]
     },
     "execution_count": 83,
     "metadata": {},
     "output_type": "execute_result"
    }
   ],
   "source": [
    "#find the max of the list \n",
    "#recurison method\n",
    "def find_max(L):\n",
    "    if len(L)==1:\n",
    "        return L[0]\n",
    "    else:\n",
    "        return max(L[0], find_max(L[1:]))\n",
    "\n",
    "L = [3,4,5,8,7]\n",
    "find_max(L)"
   ]
  },
  {
   "cell_type": "code",
   "execution_count": null,
   "id": "23e3fc22",
   "metadata": {},
   "outputs": [],
   "source": [
    "#find the min of the list \n",
    "#recurison method\n",
    "def find_max(L):\n",
    "    if len(L)==1:\n",
    "        return L[0]\n",
    "    else:\n",
    "        return min(L[0], find_max(L[1:]))\n",
    "\n",
    "L = [3,4,5,6,7]\n",
    "find_max(L)"
   ]
  },
  {
   "cell_type": "code",
   "execution_count": 64,
   "id": "b60b72b1",
   "metadata": {},
   "outputs": [
    {
     "data": {
      "text/plain": [
       "6666"
      ]
     },
     "execution_count": 64,
     "metadata": {},
     "output_type": "execute_result"
    }
   ],
   "source": [
    "def find_max(input_list):\n",
    "    \n",
    "    #base code\n",
    "    if len(input_list) == 1:\n",
    "        return input_list[0]\n",
    "    \n",
    "    #recursive case\n",
    "    \n",
    "    else:\n",
    "        return max(input_list[0], find_max(input_list[1:]))\n",
    "    \n",
    "list = [999,888,6666]\n",
    "find_max(list)"
   ]
  },
  {
   "cell_type": "code",
   "execution_count": 50,
   "id": "f002be34",
   "metadata": {},
   "outputs": [
    {
     "data": {
      "text/plain": [
       "[3, 4]"
      ]
     },
     "execution_count": 50,
     "metadata": {},
     "output_type": "execute_result"
    }
   ],
   "source": [
    "list=[9,3,4]\n",
    "list[1:]"
   ]
  },
  {
   "cell_type": "code",
   "execution_count": null,
   "id": "5e29f474",
   "metadata": {},
   "outputs": [],
   "source": [
    "#find the max of the list \n",
    "#iterative method\n",
    "def find_max(L):\n",
    "    for i in range(0, len(L))\n",
    "   \n",
    "    "
   ]
  },
  {
   "cell_type": "code",
   "execution_count": 119,
   "id": "593e3713",
   "metadata": {},
   "outputs": [
    {
     "name": "stdout",
     "output_type": "stream",
     "text": [
      "0\n",
      "1 None\n",
      "2 None\n",
      "3 None\n",
      "4 None\n",
      "5 None\n"
     ]
    }
   ],
   "source": [
    "# return \"n\" to \"1\" number\n",
    "#attempt 1\n",
    "def recur(x):\n",
    "    # base case\n",
    "    if x == 0:\n",
    "        print(x)\n",
    "    \n",
    "    #recur case\n",
    "    else:\n",
    "#         print(x)\n",
    "#         recur(x-1)\n",
    "        print((x), recur(x-1))\n",
    "    \n",
    "#     recur(x-1)\n",
    "#     print(x)\n",
    "\n",
    "recur(5)"
   ]
  },
  {
   "cell_type": "code",
   "execution_count": 80,
   "id": "00e939be",
   "metadata": {},
   "outputs": [
    {
     "data": {
      "text/plain": [
       "1"
      ]
     },
     "execution_count": 80,
     "metadata": {},
     "output_type": "execute_result"
    }
   ],
   "source": [
    "#attempt 2\n",
    "def recur(x):\n",
    "    # base case\n",
    "    if x == 1:\n",
    "        return 1\n",
    "    \n",
    "    #recur case\n",
    "    else:\n",
    "        return x and recur(x-1)\n",
    "\n",
    "recur(10)"
   ]
  },
  {
   "cell_type": "code",
   "execution_count": 87,
   "id": "5d7c29e1",
   "metadata": {},
   "outputs": [
    {
     "data": {
      "text/plain": [
       "12"
      ]
     },
     "execution_count": 87,
     "metadata": {},
     "output_type": "execute_result"
    }
   ],
   "source": [
    "mylist= [2,4,1,5]\n",
    "\n",
    "def mysum(L):\n",
    "    if len(L) == 0:\n",
    "        return 0\n",
    "\n",
    "    else:\n",
    "        return(L[0] + mysum(L[1:]))\n",
    "\n",
    "mysum(mylist)  "
   ]
  },
  {
   "cell_type": "code",
   "execution_count": 103,
   "id": "64aeb5a9",
   "metadata": {
    "scrolled": true
   },
   "outputs": [
    {
     "data": {
      "text/plain": [
       "15"
      ]
     },
     "execution_count": 103,
     "metadata": {},
     "output_type": "execute_result"
    }
   ],
   "source": []
  }
 ],
 "metadata": {
  "kernelspec": {
   "display_name": "Python 3 (ipykernel)",
   "language": "python",
   "name": "python3"
  },
  "language_info": {
   "codemirror_mode": {
    "name": "ipython",
    "version": 3
   },
   "file_extension": ".py",
   "mimetype": "text/x-python",
   "name": "python",
   "nbconvert_exporter": "python",
   "pygments_lexer": "ipython3",
   "version": "3.9.12"
  }
 },
 "nbformat": 4,
 "nbformat_minor": 5
}
