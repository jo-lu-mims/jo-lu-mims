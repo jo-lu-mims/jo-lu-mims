{
 "cells": [
  {
   "cell_type": "code",
   "execution_count": null,
   "id": "1eee2f29",
   "metadata": {},
   "outputs": [],
   "source": [
    "# Q1. Write a recursive function SumOdd that takes as input \n",
    "# a list of integers and returns the sum of all odd numbers in the list.\n",
    "# If the list is empty, return 0 (hint: this is your base case). \n",
    "# Call the function with some sample inputs \n",
    "# to demonstrate its correct operation."
   ]
  },
  {
   "cell_type": "code",
   "execution_count": 22,
   "id": "55009ca2",
   "metadata": {},
   "outputs": [],
   "source": [
    "def SumOdd(L):\n",
    "    if len(L) == 0:\n",
    "        return 0\n",
    "    else:\n",
    "        if L[0]%2==1: # is odd\n",
    "            return L[0] + SumOdd(L[1:]) \n",
    "        else: # is even\n",
    "            return SumOdd(L[1:])"
   ]
  },
  {
   "cell_type": "code",
   "execution_count": 23,
   "id": "54f630e8",
   "metadata": {},
   "outputs": [
    {
     "data": {
      "text/plain": [
       "1"
      ]
     },
     "execution_count": 23,
     "metadata": {},
     "output_type": "execute_result"
    }
   ],
   "source": [
    "L=[1,4,6]\n",
    "SumOdd(L)"
   ]
  },
  {
   "cell_type": "code",
   "execution_count": 24,
   "id": "1b1f1315",
   "metadata": {},
   "outputs": [
    {
     "data": {
      "text/plain": [
       "9"
      ]
     },
     "execution_count": 24,
     "metadata": {},
     "output_type": "execute_result"
    }
   ],
   "source": [
    "L=[1,3,5]\n",
    "SumOdd(L)"
   ]
  },
  {
   "cell_type": "code",
   "execution_count": 25,
   "id": "839abdd4",
   "metadata": {},
   "outputs": [
    {
     "data": {
      "text/plain": [
       "0"
      ]
     },
     "execution_count": 25,
     "metadata": {},
     "output_type": "execute_result"
    }
   ],
   "source": [
    "L=[]\n",
    "SumOdd(L)"
   ]
  },
  {
   "cell_type": "code",
   "execution_count": null,
   "id": "3780ebfb",
   "metadata": {},
   "outputs": [],
   "source": [
    "# Q2. Write a recursive function IsPalindrome that takes as input \n",
    "# a string and returns True if it is a palindrome and False if it is not. \n",
    "# A string of length 0 or 1 is a palindrome. \n",
    "# A string of length greater than 1 is a palindrome if the first and last character are the same, \n",
    "# the second and second to last character are the same, etc. \n",
    "# Call the function with some sample inputs to demonstrate its correct operation."
   ]
  },
  {
   "cell_type": "code",
   "execution_count": 61,
   "id": "74a4b6e5",
   "metadata": {},
   "outputs": [],
   "source": [
    "\n",
    "#1\n",
    "def IsPalindrome(word):\n",
    "    if len(word) == 0 or 1:\n",
    "        return \"True\"\n",
    "    else:\n",
    "        return \"False\""
   ]
  },
  {
   "cell_type": "code",
   "execution_count": 62,
   "id": "e1038f3e",
   "metadata": {},
   "outputs": [
    {
     "data": {
      "text/plain": [
       "'True'"
      ]
     },
     "execution_count": 62,
     "metadata": {},
     "output_type": "execute_result"
    }
   ],
   "source": [
    "IsPalindrome(\"dudg\")"
   ]
  },
  {
   "cell_type": "code",
   "execution_count": 63,
   "id": "1d482343",
   "metadata": {},
   "outputs": [
    {
     "ename": "SyntaxError",
     "evalue": "invalid syntax (3172563088.py, line 5)",
     "output_type": "error",
     "traceback": [
      "\u001b[0;36m  Input \u001b[0;32mIn [63]\u001b[0;36m\u001b[0m\n\u001b[0;31m    elif\u001b[0m\n\u001b[0m         ^\u001b[0m\n\u001b[0;31mSyntaxError\u001b[0m\u001b[0;31m:\u001b[0m invalid syntax\n"
     ]
    }
   ],
   "source": [
    "#2\n",
    "def IsPalindrome(word):\n",
    "    if len(word) == 1 or 0:\n",
    "        return \"True\"\n",
    "    elif word[1]\n",
    "        return \"False\""
   ]
  },
  {
   "cell_type": "code",
   "execution_count": 9,
   "id": "ce1a5d69",
   "metadata": {},
   "outputs": [
    {
     "data": {
      "text/plain": [
       "5"
      ]
     },
     "execution_count": 9,
     "metadata": {},
     "output_type": "execute_result"
    }
   ],
   "source": [
    "len(str(89898))"
   ]
  },
  {
   "cell_type": "code",
   "execution_count": 37,
   "id": "82cc1e57",
   "metadata": {},
   "outputs": [],
   "source": [
    "def IsPalindrome(word):\n",
    "    return word == word[::-1]"
   ]
  },
  {
   "cell_type": "code",
   "execution_count": 41,
   "id": "7702d80a",
   "metadata": {},
   "outputs": [
    {
     "data": {
      "text/plain": [
       "'False'"
      ]
     },
     "execution_count": 41,
     "metadata": {},
     "output_type": "execute_result"
    }
   ],
   "source": [
    "IsPalindrome('dfdd')"
   ]
  },
  {
   "cell_type": "code",
   "execution_count": null,
   "id": "df1a1130",
   "metadata": {},
   "outputs": [],
   "source": []
  }
 ],
 "metadata": {
  "kernelspec": {
   "display_name": "Python 3 (ipykernel)",
   "language": "python",
   "name": "python3"
  },
  "language_info": {
   "codemirror_mode": {
    "name": "ipython",
    "version": 3
   },
   "file_extension": ".py",
   "mimetype": "text/x-python",
   "name": "python",
   "nbconvert_exporter": "python",
   "pygments_lexer": "ipython3",
   "version": "3.9.12"
  }
 },
 "nbformat": 4,
 "nbformat_minor": 5
}
