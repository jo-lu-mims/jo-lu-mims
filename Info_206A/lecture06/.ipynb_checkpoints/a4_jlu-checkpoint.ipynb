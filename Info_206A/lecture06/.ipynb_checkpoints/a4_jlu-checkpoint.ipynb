{
 "cells": [
  {
   "cell_type": "code",
   "execution_count": null,
   "id": "9f564989",
   "metadata": {},
   "outputs": [],
   "source": [
    "# Q1. Write a recursive function SumOdd that takes as input \n",
    "# a list of integers and returns the sum of all odd numbers in the list.\n",
    "# If the list is empty, return 0 (hint: this is your base case). \n",
    "# Call the function with some sample inputs \n",
    "# to demonstrate its correct operation."
   ]
  },
  {
   "cell_type": "code",
   "execution_count": 22,
   "id": "19b5d11a",
   "metadata": {},
   "outputs": [],
   "source": [
    "def SumOdd(L):\n",
    "    if len(L) == 0:\n",
    "        return 0\n",
    "    else:\n",
    "        if L[0]%2==1: # is odd\n",
    "            return L[0] + SumOdd(L[1:]) \n",
    "        else: # is even\n",
    "            return SumOdd(L[1:])"
   ]
  },
  {
   "cell_type": "code",
   "execution_count": 23,
   "id": "dfef4be4",
   "metadata": {},
   "outputs": [
    {
     "data": {
      "text/plain": [
       "1"
      ]
     },
     "execution_count": 23,
     "metadata": {},
     "output_type": "execute_result"
    }
   ],
   "source": [
    "L=[1,4,6]\n",
    "SumOdd(L)"
   ]
  },
  {
   "cell_type": "code",
   "execution_count": 24,
   "id": "db832154",
   "metadata": {},
   "outputs": [
    {
     "data": {
      "text/plain": [
       "9"
      ]
     },
     "execution_count": 24,
     "metadata": {},
     "output_type": "execute_result"
    }
   ],
   "source": [
    "L=[1,3,5]\n",
    "SumOdd(L)"
   ]
  },
  {
   "cell_type": "code",
   "execution_count": 25,
   "id": "a66c67c1",
   "metadata": {},
   "outputs": [
    {
     "data": {
      "text/plain": [
       "0"
      ]
     },
     "execution_count": 25,
     "metadata": {},
     "output_type": "execute_result"
    }
   ],
   "source": [
    "L=[]\n",
    "SumOdd(L)"
   ]
  },
  {
   "cell_type": "code",
   "execution_count": null,
   "id": "19ed2a74",
   "metadata": {},
   "outputs": [],
   "source": [
    "def mysum(L):\n",
    "    if L == []:\n",
    "        return 0\n",
    "    else:\n",
    "        return L[0] + mysum(L[1:])\n",
    "\n",
    "mysum([2,4,1,5])"
   ]
  },
  {
   "cell_type": "code",
   "execution_count": null,
   "id": "9141e41b",
   "metadata": {},
   "outputs": [],
   "source": [
    "# Q2. Write a recursive function IsPalindrome that takes as input \n",
    "# a string and returns True if it is a palindrome and False if it is not. \n",
    "# A string of length 0 or 1 is a palindrome. \n",
    "# A string of length greater than 1 is a palindrome if the first and last character are the same, \n",
    "# the second and second to last character are the same, etc. \n",
    "# Call the function with some sample inputs to demonstrate its correct operation."
   ]
  },
  {
   "cell_type": "code",
   "execution_count": 14,
   "id": "4dd5cbf6",
   "metadata": {},
   "outputs": [
    {
     "data": {
      "text/plain": [
       "True"
      ]
     },
     "execution_count": 14,
     "metadata": {},
     "output_type": "execute_result"
    }
   ],
   "source": [
    "def IsPalindrome(input):\n",
    "    if len(str(input)) == 0 or 1:\n",
    "        return True\n",
    "    \n",
    "IsPalindrome(\"du\")"
   ]
  },
  {
   "cell_type": "code",
   "execution_count": 9,
   "id": "dfa31c3a",
   "metadata": {},
   "outputs": [
    {
     "data": {
      "text/plain": [
       "5"
      ]
     },
     "execution_count": 9,
     "metadata": {},
     "output_type": "execute_result"
    }
   ],
   "source": [
    "len(str(89898))"
   ]
  }
 ],
 "metadata": {
  "kernelspec": {
   "display_name": "Python 3 (ipykernel)",
   "language": "python",
   "name": "python3"
  },
  "language_info": {
   "codemirror_mode": {
    "name": "ipython",
    "version": 3
   },
   "file_extension": ".py",
   "mimetype": "text/x-python",
   "name": "python",
   "nbconvert_exporter": "python",
   "pygments_lexer": "ipython3",
   "version": "3.9.12"
  }
 },
 "nbformat": 4,
 "nbformat_minor": 5
}
