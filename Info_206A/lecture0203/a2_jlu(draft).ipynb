{
 "cells": [
  {
   "cell_type": "code",
   "execution_count": 4,
   "id": "90462a5b",
   "metadata": {},
   "outputs": [
    {
     "name": "stdout",
     "output_type": "stream",
     "text": [
      "please type in your password4\n",
      "OK\n"
     ]
    }
   ],
   "source": [
    "#draft\n",
    "def PasswordCheck(input):\n",
    "    p=input(\"please type in your password\")\n",
    "    p=int(p)\n",
    "    if p<5:\n",
    "        print(\"OK\")\n",
    "\n",
    "PasswordCheck(input)"
   ]
  },
  {
   "cell_type": "code",
   "execution_count": null,
   "id": "9d748742",
   "metadata": {},
   "outputs": [],
   "source": [
    "#reference code\n",
    "# Password validation in Python\n",
    "# using naive method\n",
    "  \n",
    "# Function to validate the password\n",
    "def password_check(passwd):\n",
    "      \n",
    "    SpecialSym =['$', '@', '#', '%']\n",
    "    val = True\n",
    "      \n",
    "    if len(passwd) < 6:\n",
    "        print('length should be at least 6')\n",
    "        val = False\n",
    "          \n",
    "    if len(passwd) > 20:\n",
    "        print('length should be not be greater than 8')\n",
    "        val = False\n",
    "          \n",
    "    if not any(char.isdigit() for char in passwd):\n",
    "        print('Password should have at least one numeral')\n",
    "        val = False\n",
    "          \n",
    "    if not any(char.isupper() for char in passwd):\n",
    "        print('Password should have at least one uppercase letter')\n",
    "        val = False\n",
    "          \n",
    "    if not any(char.islower() for char in passwd):\n",
    "        print('Password should have at least one lowercase letter')\n",
    "        val = False\n",
    "          \n",
    "    if not any(char in SpecialSym for char in passwd):\n",
    "        print('Password should have at least one of the symbols $@#')\n",
    "        val = False\n",
    "    if val:\n",
    "        return val\n",
    "  \n",
    "# Main method\n",
    "def main():\n",
    "    passwd = 'Geek12@'\n",
    "      \n",
    "    if (password_check(passwd)):\n",
    "        print(\"Password is valid\")\n",
    "    else:\n",
    "        print(\"Invalid Password !!\")\n",
    "          \n",
    "# Driver Code        \n",
    "if __name__ == '__main__':\n",
    "    main()"
   ]
  },
  {
   "cell_type": "code",
   "execution_count": null,
   "id": "95373ee0",
   "metadata": {},
   "outputs": [],
   "source": [
    "#final\n",
    "#re module\n",
    "import re\n",
    "\n",
    "def PasswordCheck(input):\n",
    "    p = input(\"please type in your password\")\n",
    "    if len(p) < 8:\n",
    "        print(\"The password is not strong enough! It needs to contain at least eight characters.\")        \n",
    "    if re.search('[0-9]',p) is None:\n",
    "        print(\"The password is not strong enough! It needs to contain at least one number\")\n",
    "    if re.search('[A-Z]',p) is None:\n",
    "        print(\"The password is not strong enough! It needs to contain at least one uppercase letter.\")\n",
    "    if re.search('[a-z]',p) is None:\n",
    "        print(\"The password is not strong enough! It needs to contain at least one lowercase letter.\")\n",
    "    else:\n",
    "        print(\"The password is strong enough!\")\n",
    "    \n",
    "        \n",
    "PasswordCheck(input)"
   ]
  },
  {
   "cell_type": "code",
   "execution_count": 30,
   "id": "4dda8dd9",
   "metadata": {},
   "outputs": [
    {
     "name": "stdout",
     "output_type": "stream",
     "text": [
      "133\n"
     ]
    }
   ],
   "source": [
    "#draft\n",
    "file=open('DOI.txt', 'r')\n",
    "per_line=file.readlines()\n",
    "\n",
    "print(len(per_line))"
   ]
  },
  {
   "cell_type": "code",
   "execution_count": 40,
   "id": "c99cda84",
   "metadata": {},
   "outputs": [
    {
     "name": "stdout",
     "output_type": "stream",
     "text": [
      "133 lines; 1324 words; \n"
     ]
    }
   ],
   "source": [
    "#final straight\n",
    "file=open('DOI.txt', 'r')\n",
    "per_line=file.readlines()\n",
    "file=open('DOI.txt', 'r')\n",
    "read_data=file.read()\n",
    "per_word=read_data.split()\n",
    "\n",
    "print(str(len(per_line))+\" lines; \"+str(len(per_word))+\" words; \")"
   ]
  },
  {
   "cell_type": "code",
   "execution_count": 2,
   "id": "8f64cd7a",
   "metadata": {},
   "outputs": [
    {
     "ename": "KeyboardInterrupt",
     "evalue": "Interrupted by user",
     "output_type": "error",
     "traceback": [
      "\u001b[0;31m---------------------------------------------------------------------------\u001b[0m",
      "\u001b[0;31mKeyboardInterrupt\u001b[0m                         Traceback (most recent call last)",
      "Input \u001b[0;32mIn [2]\u001b[0m, in \u001b[0;36m<cell line: 2>\u001b[0;34m()\u001b[0m\n\u001b[1;32m      1\u001b[0m \u001b[38;5;66;03m#final with file name\u001b[39;00m\n\u001b[0;32m----> 2\u001b[0m flnm\u001b[38;5;241m=\u001b[39m\u001b[38;5;28;43minput\u001b[39;49m\u001b[43m(\u001b[49m\u001b[38;5;124;43m\"\u001b[39;49m\u001b[38;5;124;43mplease type in the file name \u001b[39;49m\u001b[38;5;124;43m\"\u001b[39;49m\u001b[43m)\u001b[49m\n\u001b[1;32m      3\u001b[0m file\u001b[38;5;241m=\u001b[39m\u001b[38;5;28mopen\u001b[39m(flnm, \u001b[38;5;124m\"\u001b[39m\u001b[38;5;124mr\u001b[39m\u001b[38;5;124m\"\u001b[39m)\n\u001b[1;32m      4\u001b[0m per_line\u001b[38;5;241m=\u001b[39mfile\u001b[38;5;241m.\u001b[39mreadlines()\n",
      "File \u001b[0;32m~/opt/anaconda3/lib/python3.9/site-packages/ipykernel/kernelbase.py:1075\u001b[0m, in \u001b[0;36mKernel.raw_input\u001b[0;34m(self, prompt)\u001b[0m\n\u001b[1;32m   1071\u001b[0m \u001b[38;5;28;01mif\u001b[39;00m \u001b[38;5;129;01mnot\u001b[39;00m \u001b[38;5;28mself\u001b[39m\u001b[38;5;241m.\u001b[39m_allow_stdin:\n\u001b[1;32m   1072\u001b[0m     \u001b[38;5;28;01mraise\u001b[39;00m StdinNotImplementedError(\n\u001b[1;32m   1073\u001b[0m         \u001b[38;5;124m\"\u001b[39m\u001b[38;5;124mraw_input was called, but this frontend does not support input requests.\u001b[39m\u001b[38;5;124m\"\u001b[39m\n\u001b[1;32m   1074\u001b[0m     )\n\u001b[0;32m-> 1075\u001b[0m \u001b[38;5;28;01mreturn\u001b[39;00m \u001b[38;5;28;43mself\u001b[39;49m\u001b[38;5;241;43m.\u001b[39;49m\u001b[43m_input_request\u001b[49m\u001b[43m(\u001b[49m\n\u001b[1;32m   1076\u001b[0m \u001b[43m    \u001b[49m\u001b[38;5;28;43mstr\u001b[39;49m\u001b[43m(\u001b[49m\u001b[43mprompt\u001b[49m\u001b[43m)\u001b[49m\u001b[43m,\u001b[49m\n\u001b[1;32m   1077\u001b[0m \u001b[43m    \u001b[49m\u001b[38;5;28;43mself\u001b[39;49m\u001b[38;5;241;43m.\u001b[39;49m\u001b[43m_parent_ident\u001b[49m\u001b[43m[\u001b[49m\u001b[38;5;124;43m\"\u001b[39;49m\u001b[38;5;124;43mshell\u001b[39;49m\u001b[38;5;124;43m\"\u001b[39;49m\u001b[43m]\u001b[49m\u001b[43m,\u001b[49m\n\u001b[1;32m   1078\u001b[0m \u001b[43m    \u001b[49m\u001b[38;5;28;43mself\u001b[39;49m\u001b[38;5;241;43m.\u001b[39;49m\u001b[43mget_parent\u001b[49m\u001b[43m(\u001b[49m\u001b[38;5;124;43m\"\u001b[39;49m\u001b[38;5;124;43mshell\u001b[39;49m\u001b[38;5;124;43m\"\u001b[39;49m\u001b[43m)\u001b[49m\u001b[43m,\u001b[49m\n\u001b[1;32m   1079\u001b[0m \u001b[43m    \u001b[49m\u001b[43mpassword\u001b[49m\u001b[38;5;241;43m=\u001b[39;49m\u001b[38;5;28;43;01mFalse\u001b[39;49;00m\u001b[43m,\u001b[49m\n\u001b[1;32m   1080\u001b[0m \u001b[43m\u001b[49m\u001b[43m)\u001b[49m\n",
      "File \u001b[0;32m~/opt/anaconda3/lib/python3.9/site-packages/ipykernel/kernelbase.py:1120\u001b[0m, in \u001b[0;36mKernel._input_request\u001b[0;34m(self, prompt, ident, parent, password)\u001b[0m\n\u001b[1;32m   1117\u001b[0m             \u001b[38;5;28;01mbreak\u001b[39;00m\n\u001b[1;32m   1118\u001b[0m \u001b[38;5;28;01mexcept\u001b[39;00m \u001b[38;5;167;01mKeyboardInterrupt\u001b[39;00m:\n\u001b[1;32m   1119\u001b[0m     \u001b[38;5;66;03m# re-raise KeyboardInterrupt, to truncate traceback\u001b[39;00m\n\u001b[0;32m-> 1120\u001b[0m     \u001b[38;5;28;01mraise\u001b[39;00m \u001b[38;5;167;01mKeyboardInterrupt\u001b[39;00m(\u001b[38;5;124m\"\u001b[39m\u001b[38;5;124mInterrupted by user\u001b[39m\u001b[38;5;124m\"\u001b[39m) \u001b[38;5;28;01mfrom\u001b[39;00m \u001b[38;5;28mNone\u001b[39m\n\u001b[1;32m   1121\u001b[0m \u001b[38;5;28;01mexcept\u001b[39;00m \u001b[38;5;167;01mException\u001b[39;00m:\n\u001b[1;32m   1122\u001b[0m     \u001b[38;5;28mself\u001b[39m\u001b[38;5;241m.\u001b[39mlog\u001b[38;5;241m.\u001b[39mwarning(\u001b[38;5;124m\"\u001b[39m\u001b[38;5;124mInvalid Message:\u001b[39m\u001b[38;5;124m\"\u001b[39m, exc_info\u001b[38;5;241m=\u001b[39m\u001b[38;5;28;01mTrue\u001b[39;00m)\n",
      "\u001b[0;31mKeyboardInterrupt\u001b[0m: Interrupted by user"
     ]
    }
   ],
   "source": [
    "#final with file name\n",
    "flnm=input(\"please type in the file name \")\n",
    "file=open(flnm, \"r\")\n",
    "per_line=file.readlines()\n",
    "file=open(flnm, \"r\")\n",
    "read_data=file.read()\n",
    "per_word=read_data.split()\n",
    "\n",
    "print(str(len(per_line))+\" lines; \"+str(len(per_word))+\" words; \")"
   ]
  },
  {
   "cell_type": "code",
   "execution_count": 4,
   "id": "64475210",
   "metadata": {},
   "outputs": [
    {
     "name": "stdout",
     "output_type": "stream",
     "text": [
      "please type in the file name DOI.txt\n",
      "133 lines; 1324 words; 8316 characters\n"
     ]
    }
   ],
   "source": [
    "#final with file name\n",
    "flnm = input(\"please type in the file name \")\n",
    "file = open(flnm, \"r\")\n",
    "\n",
    "number_of_lines = 0\n",
    "number_of_words = 0\n",
    "number_of_characters = 0\n",
    "for line in file:\n",
    "  line = line.strip(\"\\n\")\n",
    "  words = line.split()\n",
    "  number_of_lines += 1\n",
    "  number_of_words += len(words)\n",
    "  number_of_characters += len(line)\n",
    "\n",
    "file.close()\n",
    "\n",
    "print(number_of_lines, \"lines;\", number_of_words, \"words;\", number_of_characters, \"characters\")"
   ]
  },
  {
   "cell_type": "code",
   "execution_count": null,
   "id": "b8ae860b",
   "metadata": {},
   "outputs": [],
   "source": []
  }
 ],
 "metadata": {
  "kernelspec": {
   "display_name": "Python 3 (ipykernel)",
   "language": "python",
   "name": "python3"
  },
  "language_info": {
   "codemirror_mode": {
    "name": "ipython",
    "version": 3
   },
   "file_extension": ".py",
   "mimetype": "text/x-python",
   "name": "python",
   "nbconvert_exporter": "python",
   "pygments_lexer": "ipython3",
   "version": "3.9.12"
  }
 },
 "nbformat": 4,
 "nbformat_minor": 5
}
