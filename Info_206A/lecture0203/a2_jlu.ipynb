{
 "cells": [
  {
   "cell_type": "code",
   "execution_count": 7,
   "id": "e4e8a655",
   "metadata": {},
   "outputs": [
    {
     "name": "stdout",
     "output_type": "stream",
     "text": [
      "please type in your password00\n",
      "The password is not strong enough! It needs to contain at least eight characters.\n",
      "The password is not strong enough! It needs to contain at least one uppercase letter.\n",
      "The password is not strong enough! It needs to contain at least one lowercase letter.\n"
     ]
    }
   ],
   "source": [
    "#Password Strength Checker\n",
    "import re\n",
    "\n",
    "def PasswordCheck(input):\n",
    "    p = input(\"Please type in your password \")\n",
    "    if len(p) < 8:\n",
    "        print(\"The password is not strong enough! It needs to contain at least eight characters.\")        \n",
    "    if re.search('[0-9]',p) is None:\n",
    "        print(\"The password is not strong enough! It needs to contain at least one number\")\n",
    "    if re.search('[A-Z]',p) is None:\n",
    "        print(\"The password is not strong enough! It needs to contain at least one uppercase letter.\")\n",
    "    if re.search('[a-z]',p) is None:\n",
    "        print(\"The password is not strong enough! It needs to contain at least one lowercase letter.\")\n",
    "    else:\n",
    "        print(\"The password is strong enough!\")  \n",
    "        \n",
    "PasswordCheck(input)"
   ]
  },
  {
   "cell_type": "code",
   "execution_count": 2,
   "id": "c114b4ec",
   "metadata": {},
   "outputs": [
    {
     "name": "stdout",
     "output_type": "stream",
     "text": [
      "Please type in the file name DOI.txt\n",
      "133 lines; 1324 words; 6700 characters\n"
     ]
    }
   ],
   "source": [
    "#Word Count\n",
    "def WordCount(input):\n",
    "\n",
    "    flnm = input(\"Please type in the file name \")\n",
    "    file = open(flnm, \"r\")\n",
    "\n",
    "    number_of_lines = 0\n",
    "    number_of_words = 0\n",
    "    number_of_characters = 0\n",
    "    for line in file: \n",
    "        words = line.split()\n",
    "        number_of_lines += 1 \n",
    "        number_of_words += len(words)\n",
    "        for word in words:\n",
    "            number_of_characters += len(word)\n",
    "\n",
    "    file.close()\n",
    "\n",
    "    print(number_of_lines, \"lines;\", number_of_words, \"words;\", number_of_characters, \"characters\")\n",
    "    \n",
    "WordCount(input)"
   ]
  }
 ],
 "metadata": {
  "kernelspec": {
   "display_name": "Python 3 (ipykernel)",
   "language": "python",
   "name": "python3"
  },
  "language_info": {
   "codemirror_mode": {
    "name": "ipython",
    "version": 3
   },
   "file_extension": ".py",
   "mimetype": "text/x-python",
   "name": "python",
   "nbconvert_exporter": "python",
   "pygments_lexer": "ipython3",
   "version": "3.9.12"
  }
 },
 "nbformat": 4,
 "nbformat_minor": 5
}
