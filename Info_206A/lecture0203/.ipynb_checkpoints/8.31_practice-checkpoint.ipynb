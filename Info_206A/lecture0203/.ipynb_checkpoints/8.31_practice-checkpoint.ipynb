{
 "cells": [
  {
   "cell_type": "code",
   "execution_count": 5,
   "id": "715c0736",
   "metadata": {},
   "outputs": [
    {
     "name": "stdout",
     "output_type": "stream",
     "text": [
      "3 hello\n"
     ]
    }
   ],
   "source": [
    "b=3\n",
    "c=\"hello\"\n",
    "\n",
    "print(str(b)+\" \"+c)"
   ]
  },
  {
   "cell_type": "code",
   "execution_count": 15,
   "id": "0db6d77a",
   "metadata": {},
   "outputs": [
    {
     "name": "stdout",
     "output_type": "stream",
     "text": [
      "the area is 78.53981633974483\n"
     ]
    }
   ],
   "source": [
    "#write a function CircleArea that returns the area of a circle given its radius\n",
    "import math\n",
    "def CircleArea(radius):\n",
    "    area=math.pi*radius**2\n",
    "    return area\n",
    "\n",
    "r=5\n",
    "\n",
    "a=CircleArea(r)\n",
    "\n",
    "print(\"the area is \"+str(a))"
   ]
  },
  {
   "cell_type": "code",
   "execution_count": 45,
   "id": "86a0b0ac",
   "metadata": {},
   "outputs": [
    {
     "name": "stdout",
     "output_type": "stream",
     "text": [
      "the area is(78.53981633974483, 31.41592653589793)\n"
     ]
    }
   ],
   "source": [
    "import math\n",
    "def CircleArea(radius):\n",
    "    area=math.pi*radius**2\n",
    "    circumference=math.pi*radius*2\n",
    "    return area,circumference\n",
    "\n",
    "r=5\n",
    "\n",
    "a=CircleArea(r)\n",
    "\n",
    "print(\"the area is\"+str(a))"
   ]
  },
  {
   "cell_type": "code",
   "execution_count": 43,
   "id": "a6093701",
   "metadata": {},
   "outputs": [
    {
     "name": "stdout",
     "output_type": "stream",
     "text": [
      "the area and circumference and diameter of a circle with radius 10 are 314.1592653589793 , 62.83185307179586 and 10\n"
     ]
    }
   ],
   "source": [
    "#practise\n",
    "#Write a function CircleAC that returns the area and circumference of a circle given its radius\n",
    "#The area and circumference of a circle with radius R and A and C\n",
    "import math\n",
    "def CircleAC(radius):\n",
    "  area=math.pi*radius*radius\n",
    "  circumference=2*math.pi*radius\n",
    "  diameter=radius*2  \n",
    "  return area,circumference,radius\n",
    "\n",
    "r=10\n",
    "\n",
    "#a=CircleArea(r)[0]\n",
    "#c=CircleArea(r)[1]\n",
    "\n",
    "a,c,d=CircleAC(r)\n",
    "\n",
    "print(\"the area and circumference and diameter of a circle with radius \"+str(r)+ \" are \"+str(a)+ \" , \" + str(c)+\" and \"+str(d))"
   ]
  },
  {
   "cell_type": "code",
   "execution_count": 96,
   "id": "6aa2beca",
   "metadata": {},
   "outputs": [],
   "source": [
    "#practise\n",
    "#Write a function CircleAC that returns the area and circumference of a circle given its radius\n",
    "#The area and circumference of a circle with radius R and A and C\n",
    "\n",
    "#handle negative numbers\n",
    "\n",
    "import math\n",
    "def CircleAC(radius):\n",
    "    if radius<0:\n",
    "        raise ValueError(\"please put radius greater than 0\")\n",
    "    area=math.pi*radius**2\n",
    "    circumference=math.pi*2*radius\n",
    "    return area,circumference"
   ]
  },
  {
   "cell_type": "code",
   "execution_count": 97,
   "id": "bc4cea1c",
   "metadata": {
    "scrolled": true
   },
   "outputs": [
    {
     "ename": "ValueError",
     "evalue": "please put radius greater than 0",
     "output_type": "error",
     "traceback": [
      "\u001b[0;31m---------------------------------------------------------------------------\u001b[0m",
      "\u001b[0;31mValueError\u001b[0m                                Traceback (most recent call last)",
      "Input \u001b[0;32mIn [97]\u001b[0m, in \u001b[0;36m<cell line: 5>\u001b[0;34m()\u001b[0m\n\u001b[1;32m      1\u001b[0m r\u001b[38;5;241m=\u001b[39m\u001b[38;5;241m-\u001b[39m\u001b[38;5;241m2\u001b[39m\n\u001b[1;32m      3\u001b[0m \u001b[38;5;66;03m#a=CircleArea(r)[0]\u001b[39;00m\n\u001b[1;32m      4\u001b[0m \u001b[38;5;66;03m#c=CircleArea(r)[1]\u001b[39;00m\n\u001b[0;32m----> 5\u001b[0m a,c\u001b[38;5;241m=\u001b[39m\u001b[43mCircleAC\u001b[49m\u001b[43m(\u001b[49m\u001b[43mr\u001b[49m\u001b[43m)\u001b[49m\n\u001b[1;32m      7\u001b[0m \u001b[38;5;28mprint\u001b[39m(\u001b[38;5;124m\"\u001b[39m\u001b[38;5;124mthe area and circumference and diameter of a circle with radius \u001b[39m\u001b[38;5;124m\"\u001b[39m\u001b[38;5;241m+\u001b[39m\u001b[38;5;28mstr\u001b[39m(r)\u001b[38;5;241m+\u001b[39m \u001b[38;5;124m\"\u001b[39m\u001b[38;5;124m are \u001b[39m\u001b[38;5;124m\"\u001b[39m\u001b[38;5;241m+\u001b[39m\u001b[38;5;28mstr\u001b[39m(a)\u001b[38;5;241m+\u001b[39m \u001b[38;5;124m\"\u001b[39m\u001b[38;5;124m and \u001b[39m\u001b[38;5;124m\"\u001b[39m \u001b[38;5;241m+\u001b[39m \u001b[38;5;28mstr\u001b[39m(c))\n",
      "Input \u001b[0;32mIn [96]\u001b[0m, in \u001b[0;36mCircleAC\u001b[0;34m(radius)\u001b[0m\n\u001b[1;32m      8\u001b[0m \u001b[38;5;28;01mdef\u001b[39;00m \u001b[38;5;21mCircleAC\u001b[39m(radius):\n\u001b[1;32m      9\u001b[0m     \u001b[38;5;28;01mif\u001b[39;00m radius\u001b[38;5;241m<\u001b[39m\u001b[38;5;241m0\u001b[39m:\n\u001b[0;32m---> 10\u001b[0m         \u001b[38;5;28;01mraise\u001b[39;00m \u001b[38;5;167;01mValueError\u001b[39;00m(\u001b[38;5;124m\"\u001b[39m\u001b[38;5;124mplease put radius greater than 0\u001b[39m\u001b[38;5;124m\"\u001b[39m)\n\u001b[1;32m     11\u001b[0m     area\u001b[38;5;241m=\u001b[39mmath\u001b[38;5;241m.\u001b[39mpi\u001b[38;5;241m*\u001b[39mradius\u001b[38;5;241m*\u001b[39m\u001b[38;5;241m*\u001b[39m\u001b[38;5;241m2\u001b[39m\n\u001b[1;32m     12\u001b[0m     circumference\u001b[38;5;241m=\u001b[39mmath\u001b[38;5;241m.\u001b[39mpi\u001b[38;5;241m*\u001b[39m\u001b[38;5;241m2\u001b[39m\u001b[38;5;241m*\u001b[39mradius\n",
      "\u001b[0;31mValueError\u001b[0m: please put radius greater than 0"
     ]
    }
   ],
   "source": [
    "r=-2\n",
    "\n",
    "#a=CircleArea(r)[0]\n",
    "#c=CircleArea(r)[1]\n",
    "a,c=CircleAC(r)\n",
    "\n",
    "print(\"the area and circumference and diameter of a circle with radius \"+str(r)+ \" are \"+str(a)+ \" and \" + str(c))"
   ]
  },
  {
   "cell_type": "code",
   "execution_count": 49,
   "id": "05636e4a",
   "metadata": {},
   "outputs": [
    {
     "ename": "Exception",
     "evalue": "The number shouldn't be an odd integer",
     "output_type": "error",
     "traceback": [
      "\u001b[0;31m---------------------------------------------------------------------------\u001b[0m",
      "\u001b[0;31mException\u001b[0m                                 Traceback (most recent call last)",
      "Input \u001b[0;32mIn [49]\u001b[0m, in \u001b[0;36m<cell line: 3>\u001b[0;34m()\u001b[0m\n\u001b[1;32m      1\u001b[0m a \u001b[38;5;241m=\u001b[39m \u001b[38;5;241m5\u001b[39m\n\u001b[1;32m      3\u001b[0m \u001b[38;5;28;01mif\u001b[39;00m a \u001b[38;5;241m%\u001b[39m \u001b[38;5;241m2\u001b[39m \u001b[38;5;241m!=\u001b[39m \u001b[38;5;241m0\u001b[39m:\n\u001b[0;32m----> 4\u001b[0m     \u001b[38;5;28;01mraise\u001b[39;00m \u001b[38;5;167;01mException\u001b[39;00m(\u001b[38;5;124m\"\u001b[39m\u001b[38;5;124mThe number shouldn\u001b[39m\u001b[38;5;124m'\u001b[39m\u001b[38;5;124mt be an odd integer\u001b[39m\u001b[38;5;124m\"\u001b[39m)\n",
      "\u001b[0;31mException\u001b[0m: The number shouldn't be an odd integer"
     ]
    }
   ],
   "source": [
    "\n",
    "a = 5\n",
    "  \n",
    "if a % 2 != 0:\n",
    "    raise Exception(\"The number shouldn't be an odd integer\")"
   ]
  },
  {
   "cell_type": "code",
   "execution_count": 119,
   "id": "70fd7929",
   "metadata": {
    "scrolled": true
   },
   "outputs": [
    {
     "name": "stdout",
     "output_type": "stream",
     "text": [
      "Enter radius-5\n"
     ]
    },
    {
     "ename": "Exception",
     "evalue": "Come on",
     "output_type": "error",
     "traceback": [
      "\u001b[0;31m---------------------------------------------------------------------------\u001b[0m",
      "\u001b[0;31mException\u001b[0m                                 Traceback (most recent call last)",
      "Input \u001b[0;32mIn [119]\u001b[0m, in \u001b[0;36m<cell line: 12>\u001b[0;34m()\u001b[0m\n\u001b[1;32m     10\u001b[0m r\u001b[38;5;241m=\u001b[39m\u001b[38;5;28minput\u001b[39m(\u001b[38;5;124m\"\u001b[39m\u001b[38;5;124mEnter radius\u001b[39m\u001b[38;5;124m\"\u001b[39m)\n\u001b[1;32m     11\u001b[0m r\u001b[38;5;241m=\u001b[39m\u001b[38;5;28mint\u001b[39m(r)\n\u001b[0;32m---> 12\u001b[0m a,c\u001b[38;5;241m=\u001b[39m\u001b[43mCircleAC\u001b[49m\u001b[43m(\u001b[49m\u001b[43mr\u001b[49m\u001b[43m)\u001b[49m\n\u001b[1;32m     13\u001b[0m \u001b[38;5;28mprint\u001b[39m(\u001b[38;5;124m\"\u001b[39m\u001b[38;5;124mthe area and circumference of a circle with radius \u001b[39m\u001b[38;5;124m\"\u001b[39m\u001b[38;5;241m+\u001b[39m\u001b[38;5;28mstr\u001b[39m(r)\u001b[38;5;241m+\u001b[39m \u001b[38;5;124m\"\u001b[39m\u001b[38;5;124m are \u001b[39m\u001b[38;5;124m\"\u001b[39m\u001b[38;5;241m+\u001b[39m\u001b[38;5;28mstr\u001b[39m(a)\u001b[38;5;241m+\u001b[39m \u001b[38;5;124m\"\u001b[39m\u001b[38;5;124m and \u001b[39m\u001b[38;5;124m\"\u001b[39m \u001b[38;5;241m+\u001b[39m \u001b[38;5;28mstr\u001b[39m(c))\n",
      "Input \u001b[0;32mIn [119]\u001b[0m, in \u001b[0;36mCircleAC\u001b[0;34m(radius)\u001b[0m\n\u001b[1;32m      3\u001b[0m \u001b[38;5;28;01mdef\u001b[39;00m \u001b[38;5;21mCircleAC\u001b[39m(radius):\n\u001b[1;32m      4\u001b[0m     \u001b[38;5;28;01mif\u001b[39;00m radius \u001b[38;5;241m<\u001b[39m \u001b[38;5;241m0\u001b[39m:\n\u001b[0;32m----> 5\u001b[0m         \u001b[38;5;28;01mraise\u001b[39;00m \u001b[38;5;167;01mException\u001b[39;00m(\u001b[38;5;124m\"\u001b[39m\u001b[38;5;124mCome on\u001b[39m\u001b[38;5;124m\"\u001b[39m)\n\u001b[1;32m      6\u001b[0m     area\u001b[38;5;241m=\u001b[39mradius\u001b[38;5;241m*\u001b[39m\u001b[38;5;241m*\u001b[39m\u001b[38;5;241m2\u001b[39m\u001b[38;5;241m*\u001b[39mmath\u001b[38;5;241m.\u001b[39mpi\n\u001b[1;32m      7\u001b[0m     circumference\u001b[38;5;241m=\u001b[39mradius\u001b[38;5;241m*\u001b[39m\u001b[38;5;241m2\u001b[39m\u001b[38;5;241m*\u001b[39mmath\u001b[38;5;241m.\u001b[39mpi\n",
      "\u001b[0;31mException\u001b[0m: Come on"
     ]
    }
   ],
   "source": [
    "#final practice resolved\n",
    "import math\n",
    "\n",
    "def CircleAC(radius): #remember to put\":\"\n",
    "    if radius < 0: #remember to put\":\"\n",
    "        raise Exception(\"Come on\")\n",
    "    area=radius**2*math.pi\n",
    "    circumference=radius*2*math.pi\n",
    "    return area, circumference\n",
    "\n",
    "r=input(\"Enter radius\")\n",
    "r=int(r) #after input, remember to change to integer\n",
    "a,c=CircleAC(r)\n",
    "print(\"the area and circumference of a circle with radius \"+str(r)+ \" are \"+str(a)+ \" and \" + str(c))"
   ]
  }
 ],
 "metadata": {
  "kernelspec": {
   "display_name": "Python 3 (ipykernel)",
   "language": "python",
   "name": "python3"
  },
  "language_info": {
   "codemirror_mode": {
    "name": "ipython",
    "version": 3
   },
   "file_extension": ".py",
   "mimetype": "text/x-python",
   "name": "python",
   "nbconvert_exporter": "python",
   "pygments_lexer": "ipython3",
   "version": "3.9.12"
  }
 },
 "nbformat": 4,
 "nbformat_minor": 5
}
