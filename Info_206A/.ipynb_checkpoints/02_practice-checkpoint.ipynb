{
 "cells": [
  {
   "cell_type": "code",
   "execution_count": 1,
   "id": "9a75ba43",
   "metadata": {},
   "outputs": [],
   "source": [
    "# PRACTICE\n",
    "\n",
    "# Write a function CircleArea that returns the area of a circle given its radius\n",
    "# Call the function, then print a statement in the following format:\n",
    "#\n",
    "# The area of a circle with radius R is A"
   ]
  },
  {
   "cell_type": "code",
   "execution_count": 11,
   "id": "75ef739f",
   "metadata": {},
   "outputs": [],
   "source": [
    "import math"
   ]
  },
  {
   "cell_type": "code",
   "execution_count": 12,
   "id": "8cd2de91",
   "metadata": {},
   "outputs": [],
   "source": [
    "def CircleArea(radius):\n",
    "    area = math.pi * radius * radius\n",
    "    return area"
   ]
  },
  {
   "cell_type": "code",
   "execution_count": 13,
   "id": "a5ce4a16",
   "metadata": {},
   "outputs": [
    {
     "name": "stdout",
     "output_type": "stream",
     "text": [
      "The area of a circle with radius 5 is 78.53981633974483\n"
     ]
    }
   ],
   "source": [
    "r = 5\n",
    "\n",
    "a = CircleArea(r)\n",
    "\n",
    "print(\"The area of a circle with radius \" + str(r) + \" is \" + str(a))"
   ]
  },
  {
   "cell_type": "code",
   "execution_count": 4,
   "id": "c105e060",
   "metadata": {},
   "outputs": [],
   "source": [
    "# PRACTICE\n",
    "\n",
    "# Write a function CircleAC that returns the area and circumference of a circle given its radius\n",
    "# Call the function, then print a statement in the following format:\n",
    "#\n",
    "# The area and circumference of a circle with radius R are A and C"
   ]
  },
  {
   "cell_type": "code",
   "execution_count": 15,
   "id": "f604023a",
   "metadata": {},
   "outputs": [],
   "source": [
    "def CircleAC(radius):\n",
    "    #area = math.pi * radius * radius\n",
    "    area = CircleArea(radius)\n",
    "    circumference = 2 * math.pi * radius\n",
    "    return area, circumference"
   ]
  },
  {
   "cell_type": "code",
   "execution_count": 18,
   "id": "1ad09d11",
   "metadata": {},
   "outputs": [
    {
     "name": "stdout",
     "output_type": "stream",
     "text": [
      "The area and circumference of a circle with radius 10 are 314.1592653589793 and 62.83185307179586\n"
     ]
    }
   ],
   "source": [
    "r = 10\n",
    "\n",
    "#a = CircleAC(r)[0]\n",
    "#c = CircleAC(r)[1]\n",
    "\n",
    "a, c = CircleAC(r)\n",
    "\n",
    "print(\"The area and circumference of a circle with radius \" + str(r) + \" are \" + str(a) + \" and \" + str(c))"
   ]
  },
  {
   "cell_type": "code",
   "execution_count": null,
   "id": "313ac178",
   "metadata": {},
   "outputs": [],
   "source": []
  },
  {
   "cell_type": "code",
   "execution_count": 5,
   "id": "dd24e258",
   "metadata": {},
   "outputs": [],
   "source": [
    "# PRACTICE\n",
    "\n",
    "# Revise the CircleAC to handle negative numbers, which are invalid as input\n",
    "\n"
   ]
  },
  {
   "cell_type": "code",
   "execution_count": 7,
   "id": "f4d15bbe",
   "metadata": {},
   "outputs": [],
   "source": [
    "def CircleAC(radius):\n",
    "    if radius < 0:\n",
    "        raise ValueError(\"This function only works if you give me non-negative numbers!!!!!\")\n",
    "    #area = math.pi * radius * radius\n",
    "    area = CircleArea(radius)\n",
    "    circumference = 2 * math.pi * radius\n",
    "    return area, circumference"
   ]
  },
  {
   "cell_type": "code",
   "execution_count": 20,
   "id": "8726b547",
   "metadata": {},
   "outputs": [
    {
     "ename": "ValueError",
     "evalue": "This function only works if you give me non-negative numbers!!!!!",
     "output_type": "error",
     "traceback": [
      "\u001b[0;31m---------------------------------------------------------------------------\u001b[0m",
      "\u001b[0;31mValueError\u001b[0m                                Traceback (most recent call last)",
      "Input \u001b[0;32mIn [20]\u001b[0m, in \u001b[0;36m<cell line: 1>\u001b[0;34m()\u001b[0m\n\u001b[0;32m----> 1\u001b[0m \u001b[43mCircleAC\u001b[49m\u001b[43m(\u001b[49m\u001b[38;5;241;43m-\u001b[39;49m\u001b[38;5;241;43m100\u001b[39;49m\u001b[43m)\u001b[49m\n",
      "Input \u001b[0;32mIn [19]\u001b[0m, in \u001b[0;36mCircleAC\u001b[0;34m(radius)\u001b[0m\n\u001b[1;32m      1\u001b[0m \u001b[38;5;28;01mdef\u001b[39;00m \u001b[38;5;21mCircleAC\u001b[39m(radius):\n\u001b[1;32m      2\u001b[0m     \u001b[38;5;28;01mif\u001b[39;00m radius \u001b[38;5;241m<\u001b[39m \u001b[38;5;241m0\u001b[39m:\n\u001b[0;32m----> 3\u001b[0m         \u001b[38;5;28;01mraise\u001b[39;00m \u001b[38;5;167;01mValueError\u001b[39;00m(\u001b[38;5;124m\"\u001b[39m\u001b[38;5;124mThis function only works if you give me non-negative numbers!!!!!\u001b[39m\u001b[38;5;124m\"\u001b[39m)\n\u001b[1;32m      4\u001b[0m     \u001b[38;5;66;03m#area = math.pi * radius * radius\u001b[39;00m\n\u001b[1;32m      5\u001b[0m     area \u001b[38;5;241m=\u001b[39m CircleArea(radius)\n",
      "\u001b[0;31mValueError\u001b[0m: This function only works if you give me non-negative numbers!!!!!"
     ]
    }
   ],
   "source": [
    "CircleAC(-100)"
   ]
  },
  {
   "cell_type": "code",
   "execution_count": 6,
   "id": "aff15281",
   "metadata": {},
   "outputs": [],
   "source": [
    "# PRACTICE\n",
    "\n",
    "# Write a function MaskNumbers that accepts a variable length input string of at least length 5,\n",
    "# raise an error if length is less than 5, \n",
    "# and returns a string of equal length with all but the last 4 digits/characters replaced by an X"
   ]
  },
  {
   "cell_type": "code",
   "execution_count": null,
   "id": "95d11747",
   "metadata": {},
   "outputs": [],
   "source": []
  },
  {
   "cell_type": "code",
   "execution_count": null,
   "id": "352fd109",
   "metadata": {},
   "outputs": [],
   "source": []
  },
  {
   "cell_type": "code",
   "execution_count": null,
   "id": "7a7b0adb",
   "metadata": {},
   "outputs": [],
   "source": []
  },
  {
   "cell_type": "code",
   "execution_count": null,
   "id": "8fdddaca",
   "metadata": {},
   "outputs": [],
   "source": []
  },
  {
   "cell_type": "code",
   "execution_count": 7,
   "id": "dbbf1dec",
   "metadata": {},
   "outputs": [],
   "source": [
    "# PRACTICE\n",
    "\n",
    "# reimplement MaskNumbers with (or without) While loop"
   ]
  }
 ],
 "metadata": {
  "kernelspec": {
   "display_name": "Python 3 (ipykernel)",
   "language": "python",
   "name": "python3"
  },
  "language_info": {
   "codemirror_mode": {
    "name": "ipython",
    "version": 3
   },
   "file_extension": ".py",
   "mimetype": "text/x-python",
   "name": "python",
   "nbconvert_exporter": "python",
   "pygments_lexer": "ipython3",
   "version": "3.9.12"
  }
 },
 "nbformat": 4,
 "nbformat_minor": 5
}
